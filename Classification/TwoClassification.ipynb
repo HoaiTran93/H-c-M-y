{
 "cells": [
  {
   "cell_type": "code",
   "execution_count": 1,
   "metadata": {},
   "outputs": [],
   "source": [
    "import numpy as np\n",
    "import matplotlib.pyplot as plt\n",
    "import sklearn.datasets as skdata\n",
    "from sklearn.utils import shuffle\n",
    "import CommonFunction as cf\n",
    "from ClassificationFunction import Classification"
   ]
  },
  {
   "cell_type": "code",
   "execution_count": 2,
   "metadata": {},
   "outputs": [],
   "source": [
    "def seperateLabel(X, t):\n",
    "    X0 = []\n",
    "    X1 = []\n",
    "    for i in range(len(t)):\n",
    "        if t[i] > 0.5:\n",
    "            X1.append(X[i])\n",
    "        else:\n",
    "            X0.append(X[i])\n",
    "    return (np.array(X0), np.array(X1))\n",
    "\n",
    "Nsample = 200\n",
    "sampleNoise = 0.1"
   ]
  },
  {
   "cell_type": "code",
   "execution_count": 3,
   "metadata": {},
   "outputs": [
    {
     "data": {
      "image/png": "[encoded data removed]",
      "text/plain": [
       "<Figure size 432x288 with 1 Axes>"
      ]
     },
     "metadata": {
      "needs_background": "light"
     },
     "output_type": "display_data"
    }
   ],
   "source": [
    "X, t = skdata.make_moons(n_samples = Nsample, noise = sampleNoise, shuffle = False, random_state = 0)\n",
    "halfSample = int(Nsample/2)\n",
    "plt.scatter(X[:halfSample, 0], X[:halfSample, 1], c = 'r')\n",
    "plt.scatter(X[halfSample:, 0], X[halfSample:, 1], c = 'g')\n",
    "\n",
    "t = t.reshape(-1,1)\n",
    "\n",
    "funcs = [\n",
    "    lambda x: x[:, 0],\n",
    "    lambda x: x[:, 1],\n",
    "    lambda x: np.multiply(x[:, 0], x[:, 1]),\n",
    "    lambda x: np.power(x[:, 0], 2),\n",
    "    lambda x: np.power(x[:, 1], 2),\n",
    "    lambda x: np.multiply(np.power(x[:, 0], 2), x[:, 1]),\n",
    "    lambda x: np.multiply(np.power(x[:, 1], 2), x[:, 0]),\n",
    "    lambda x: np.power(x[:, 0], 3),\n",
    "    lambda x: np.power(x[:, 1], 3),\n",
    "    lambda x: np.multiply(np.power(x[:, 0], 3), x[:, 1]),\n",
    "    lambda x: np.multiply(np.power(x[:, 1], 3), x[:, 0]),\n",
    "    lambda x: np.multiply(np.power(x[:, 0], 2), np.power(x[:, 1], 2)),\n",
    "    lambda x: np.power(x[:, 0], 4),\n",
    "    lambda x: np.power(x[:, 1], 4),\n",
    "]\n",
    "Xfeatures = cf.CommonFunction(X, funcs).generate()\n",
    "classifier = Classification(Xfeatures, t, NumEpochs = 100, eta = 0.05).fit()"
   ]
  },
  {
   "cell_type": "code",
   "execution_count": 4,
   "metadata": {},
   "outputs": [
    {
     "name": "stdout",
     "output_type": "stream",
     "text": [
      "MSE =  [[0.00900394]]\n"
     ]
    }
   ],
   "source": [
    "X, t = skdata.make_moons(n_samples = Nsample, noise = sampleNoise, shuffle = False, random_state = 100)\n",
    "\n",
    "t = t.reshape(-1,1)\n",
    "\n",
    "Xfeatures = cf.CommonFunction(X, funcs).generate()\n",
    "prediction = classifier.predict(Xfeatures,t)"
   ]
  },
  {
   "cell_type": "code",
   "execution_count": 9,
   "metadata": {},
   "outputs": [
    {
     "name": "stdout",
     "output_type": "stream",
     "text": [
      "(46597, 2)\n",
      "(43403, 2)\n"
     ]
    },
    {
     "data": {
      "image/png": "[encoded data removed]",
      "text/plain": [
       "<Figure size 432x288 with 1 Axes>"
      ]
     },
     "metadata": {
      "needs_background": "light"
     },
     "output_type": "display_data"
    }
   ],
   "source": [
    "xlim = (-1.2, 2.2)\n",
    "ylim = (-0.8, 1.3)\n",
    "\n",
    "X, t = skdata.make_moons(n_samples = Nsample, noise = sampleNoise, shuffle = False, random_state = 0)\n",
    "halfSample = int(Nsample/2)\n",
    "\n",
    "xplot = np.linspace(xlim[0], xlim[1], 300)\n",
    "yplot = np.linspace(ylim[0], ylim[1], 300)\n",
    "xgrid, ygrid = np.meshgrid(xplot, yplot)\n",
    "xgrid = xgrid.reshape(-1, 1)\n",
    "ygrid = ygrid.reshape(-1, 1)\n",
    "\n",
    "xygrid = np.hstack((xgrid, ygrid))\n",
    "Xfeatures = cf.CommonFunction(xygrid, funcs).generate()\n",
    "prediction = classifier.predict(Xfeatures)\n",
    "X0, X1 = seperateLabel(xygrid, prediction)\n",
    "\n",
    "print(X0.shape)\n",
    "print(X1.shape)\n",
    "\n",
    "plt.scatter(X0[:, 0].ravel(), X0[:, 1].ravel(), c = 'y', marker = 's', s = 5)\n",
    "plt.scatter(X1[:, 0].ravel(), X1[:, 1].ravel(), c = 'c', marker = 's', s = 5)\n",
    "\n",
    "plt.scatter(X[:halfSample, 0], X[:halfSample, 1], c = 'r', label = \"class0\")\n",
    "plt.scatter(X[halfSample:, 0], X[halfSample:, 1], c = 'g', label = \"class1\")\n",
    "\n",
    "plt.xlim(xlim)\n",
    "plt.ylim(ylim)\n",
    "plt.legend()\n",
    "plt.show()"
   ]
  },
  {
   "cell_type": "code",
   "execution_count": null,
   "metadata": {},
   "outputs": [],
   "source": []
  }
 ],
 "metadata": {
  "kernelspec": {
   "display_name": "Python 3",
   "language": "python",
   "name": "python3"
  },
  "language_info": {
   "codemirror_mode": {
    "name": "ipython",
    "version": 3
   },
   "file_extension": ".py",
   "mimetype": "text/x-python",
   "name": "python",
   "nbconvert_exporter": "python",
   "pygments_lexer": "ipython3",
   "version": "3.7.3"
  }
 },
 "nbformat": 4,
 "nbformat_minor": 2
}
