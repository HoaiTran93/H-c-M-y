{
 "cells": [
  {
   "cell_type": "code",
   "execution_count": 1,
   "metadata": {},
   "outputs": [],
   "source": [
    "import numpy as np\n",
    "import matplotlib.pyplot as plt\n",
    "import sklearn.datasets as skdata\n",
    "import CommonFunction as cf\n",
    "from ClassificationFunction import Classification\n",
    "from sklearn.utils import shuffle\n",
    "from sklearn.preprocessing import OneHotEncoder\n",
    "from sklearn.linear_model import LogisticRegression\n",
    "from sklearn.metrics import mean_squared_error"
   ]
  },
  {
   "cell_type": "code",
   "execution_count": 2,
   "metadata": {},
   "outputs": [],
   "source": [
    "def seperateLabel(Nclass, X, t):\n",
    "    ret = []\n",
    "    for j in range(Nclass):\n",
    "        ret.append([])\n",
    "    for i in range(len(t)):\n",
    "        ret[int(t[i])].append(X[i])\n",
    "    return ret\n",
    "\n",
    "Nsample = 210\n",
    "sampleNoise = 0.1\n",
    "Nclass = 3\n",
    "centers = [\n",
    "    [-0.5, 1],\n",
    "    [0, 0.5],\n",
    "    [0.5, 1],\n",
    "]\n",
    "subSamples = int(Nsample/3)\n",
    "eta_value = 0.05"
   ]
  },
  {
   "cell_type": "code",
   "execution_count": 3,
   "metadata": {},
   "outputs": [
    {
     "data": {
      "text/plain": [
       "<matplotlib.legend.Legend at 0x28e04425fd0>"
      ]
     },
     "execution_count": 3,
     "metadata": {},
     "output_type": "execute_result"
    },
    {
     "data": {
      "image/png": "[encoded data removed]",
      "text/plain": [
       "<Figure size 432x288 with 1 Axes>"
      ]
     },
     "metadata": {
      "needs_background": "light"
     },
     "output_type": "display_data"
    }
   ],
   "source": [
    "X_train, t_train = skdata.make_blobs(n_samples = [subSamples, subSamples, subSamples], \n",
    "                         cluster_std = sampleNoise, random_state = 0, shuffle = False, centers = centers)\n",
    "\n",
    "plt.scatter(X_train[:subSamples, 0], X_train[:subSamples, 1], c = 'r', label = \"class0\")\n",
    "plt.scatter(X_train[subSamples:subSamples*2, 0], X_train[subSamples:subSamples*2, 1], c = 'g', label = \"class1\")\n",
    "plt.scatter(X_train[subSamples*2:, 0], X_train[subSamples*2:, 1], c = 'b', label = \"class2\")\n",
    "\n",
    "t_train = t_train.reshape(-1,1)\n",
    "\n",
    "funcs = [\n",
    "    lambda x: x[:, 0],\n",
    "    lambda x: x[:, 1],\n",
    "    lambda x: np.multiply(x[:, 0], x[:, 1]),\n",
    "    lambda x: np.power(x[:, 0], 2),\n",
    "    lambda x: np.power(x[:, 1], 2),\n",
    "    lambda x: np.multiply(np.power(x[:, 0], 2), x[:, 1]),\n",
    "    lambda x: np.multiply(np.power(x[:, 1], 2), x[:, 0]),\n",
    "    lambda x: np.power(x[:, 0], 3),\n",
    "    lambda x: np.power(x[:, 1], 3),\n",
    "    lambda x: np.multiply(np.power(x[:, 0], 3), x[:, 1]),\n",
    "    lambda x: np.multiply(np.power(x[:, 1], 3), x[:, 0]),\n",
    "    lambda x: np.multiply(np.power(x[:, 0], 2), np.power(x[:, 1], 2)),\n",
    "    lambda x: np.power(x[:, 0], 4),\n",
    "    lambda x: np.power(x[:, 1], 4),\n",
    "]\n",
    "\n",
    "Xfeatures_train = cf.CommonFunction(X_train, funcs).generate()\n",
    "\n",
    "enc = OneHotEncoder(handle_unknown='ignore')\n",
    "Y_train = enc.fit_transform(t_train).toarray()\n",
    "classifier = Classification(Xfeatures_train, Y_train, NumEpochs = 100, eta = eta_value).fit()\n",
    "\n",
    "plt.legend()"
   ]
  },
  {
   "cell_type": "code",
   "execution_count": 4,
   "metadata": {},
   "outputs": [
    {
     "name": "stdout",
     "output_type": "stream",
     "text": [
      "Z.shape:  (210, 3)\n",
      "yh.shape: (210, 3)\n",
      "MSE =  [[0.0047619]]\n",
      "MSE of scikit_learn: 0.004761904761904762\n"
     ]
    },
    {
     "name": "stderr",
     "output_type": "stream",
     "text": [
      "C:\\Users\\vicen\\Anaconda3\\lib\\site-packages\\sklearn\\linear_model\\logistic.py:432: FutureWarning: Default solver will be changed to 'lbfgs' in 0.22. Specify a solver to silence this warning.\n",
      "  FutureWarning)\n",
      "C:\\Users\\vicen\\Anaconda3\\lib\\site-packages\\sklearn\\linear_model\\logistic.py:1506: UserWarning: l1_ratio parameter is only used when penalty is 'elasticnet'. Got (penalty=l2)\n",
      "  \"(penalty={})\".format(self.penalty))\n",
      "C:\\Users\\vicen\\Anaconda3\\lib\\site-packages\\sklearn\\utils\\validation.py:724: DataConversionWarning: A column-vector y was passed when a 1d array was expected. Please change the shape of y to (n_samples, ), for example using ravel().\n",
      "  y = column_or_1d(y, warn=True)\n",
      "C:\\Users\\vicen\\Anaconda3\\lib\\site-packages\\sklearn\\linear_model\\logistic.py:469: FutureWarning: Default multi_class will be changed to 'auto' in 0.22. Specify the multi_class option to silence this warning.\n",
      "  \"this warning.\", FutureWarning)\n"
     ]
    }
   ],
   "source": [
    "X_test, t_test = skdata.make_blobs(n_samples = [subSamples, subSamples, subSamples], \n",
    "                         cluster_std = sampleNoise, random_state = 100, shuffle = True, centers = centers)\n",
    "t_test = t_test.reshape(-1,1)\n",
    "Xpredict = cf.CommonFunction(X_test, funcs).generate()\n",
    "\n",
    "enc = OneHotEncoder(handle_unknown='ignore')\n",
    "Y_test = enc.fit_transform(t_test).toarray()\n",
    "\n",
    "#prediction = classifier.predictLabel(Xpredict,reshape = True)\n",
    "prediction = classifier.predictNclass(Xpredict, t_test)\n",
    "\n",
    "#Using scikit_learn\n",
    "clf = LogisticRegression(l1_ratio=eta_value)\n",
    "clf.fit(X_train, t_train)\n",
    "t_pred = clf.predict(X_test)\n",
    "mse_scikit = mean_squared_error(t_test, t_pred)\n",
    "print(\"MSE of scikit_learn:\",mse_scikit)"
   ]
  },
  {
   "cell_type": "code",
   "execution_count": 5,
   "metadata": {},
   "outputs": [
    {
     "name": "stdout",
     "output_type": "stream",
     "text": [
      "Z.shape:  (90000, 3)\n",
      "yh.shape: (90000, 3)\n"
     ]
    },
    {
     "data": {
      "text/plain": [
       "<matplotlib.legend.Legend at 0x28e07089cc0>"
      ]
     },
     "execution_count": 5,
     "metadata": {},
     "output_type": "execute_result"
    },
    {
     "data": {
      "image/png": "[encoded data removed]",
      "text/plain": [
       "<Figure size 432x288 with 1 Axes>"
      ]
     },
     "metadata": {
      "needs_background": "light"
     },
     "output_type": "display_data"
    }
   ],
   "source": [
    "xlim = (-1, 1)\n",
    "ylim = (0, 2)\n",
    "\n",
    "subSamples = int(len(t_test)/3)\n",
    "X, t = skdata.make_blobs(n_samples = [subSamples, subSamples, subSamples], \n",
    "                         cluster_std = sampleNoise, random_state = 0, shuffle = False, centers = centers)\n",
    "\n",
    "xplot = np.linspace(xlim[0], xlim[1], 300)\n",
    "yplot = np.linspace(ylim[0], ylim[1], 300)\n",
    "xgrid, ygrid = np.meshgrid(xplot, yplot)\n",
    "xgrid = xgrid.reshape(-1, 1)\n",
    "ygrid = ygrid.reshape(-1, 1)\n",
    "\n",
    "xygrid = np.hstack((xgrid, ygrid))\n",
    "xyFeatures = cf.CommonFunction(xygrid, funcs).generate()\n",
    "prediction = classifier.predictLabel(xyFeatures,reshape = True)\n",
    "\n",
    "label = seperateLabel(Nclass,xygrid, prediction)\n",
    "\n",
    "X0 = np.array(label[0])\n",
    "X1 = np.array(label[1])\n",
    "X2 = np.array(label[2])\n",
    "plt.scatter(X0[:, 0].ravel(), X0[:, 1].ravel(), c = 'y', marker = 's', s = 5)\n",
    "plt.scatter(X1[:, 0].ravel(), X1[:, 1].ravel(), c = 'c', marker = 's', s = 5)\n",
    "plt.scatter(X2[:, 0].ravel(), X2[:, 1].ravel(), c = 'b', marker = 's', s = 5)\n",
    "\n",
    "plt.scatter(X[:subSamples, 0], X[:subSamples, 1], c = 'r', label = \"class0\")\n",
    "plt.scatter(X[subSamples:subSamples*2, 0], X[subSamples:subSamples*2, 1], c = 'g', label = \"class1\")\n",
    "plt.scatter(X[subSamples*2:, 0], X[subSamples*2:, 1], c = 'y', label = \"class2\")\n",
    "\n",
    "plt.xlim(xlim)\n",
    "plt.ylim(ylim)\n",
    "plt.legend()"
   ]
  },
  {
   "cell_type": "code",
   "execution_count": 6,
   "metadata": {},
   "outputs": [
    {
     "name": "stdout",
     "output_type": "stream",
     "text": [
      "[[1.]\n",
      " [1.]\n",
      " [1.]\n",
      " ...\n",
      " [2.]\n",
      " [2.]\n",
      " [2.]]\n"
     ]
    }
   ],
   "source": [
    "print(prediction)"
   ]
  },
  {
   "cell_type": "code",
   "execution_count": null,
   "metadata": {},
   "outputs": [],
   "source": []
  }
 ],
 "metadata": {
  "kernelspec": {
   "display_name": "Python 3",
   "language": "python",
   "name": "python3"
  },
  "language_info": {
   "codemirror_mode": {
    "name": "ipython",
    "version": 3
   },
   "file_extension": ".py",
   "mimetype": "text/x-python",
   "name": "python",
   "nbconvert_exporter": "python",
   "pygments_lexer": "ipython3",
   "version": "3.7.3"
  }
 },
 "nbformat": 4,
 "nbformat_minor": 2
}
