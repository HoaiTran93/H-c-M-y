{
 "cells": [
  {
   "cell_type": "code",
   "execution_count": 1,
   "metadata": {},
   "outputs": [],
   "source": [
    "import numpy as np\n",
    "from GenerateData import GenerateData\n",
    "from GenerateData import GenerateProbability\n",
    "from HMMfunctions import HMM_Function\n",
    "from HMMfunctions import HMMReestimation"
   ]
  },
  {
   "cell_type": "code",
   "execution_count": 2,
   "metadata": {},
   "outputs": [],
   "source": [
    "NumState = 3\n",
    "NumColorBall = 3 #fixed with red, blue, yellow\n",
    "redID = 0\n",
    "blueID = 1\n",
    "yellowID = 2"
   ]
  },
  {
   "cell_type": "code",
   "execution_count": 3,
   "metadata": {},
   "outputs": [
    {
     "name": "stdout",
     "output_type": "stream",
     "text": [
      "pi:\n",
      " [0.31 0.33 0.36]\n",
      "A:\n",
      " [[0.41 0.3  0.29]\n",
      " [0.36 0.25 0.39]\n",
      " [0.28 0.4  0.32]]\n",
      "B:\n",
      " [[0.34 0.31 0.35]\n",
      " [0.32 0.34 0.34]\n",
      " [0.33 0.41 0.26]]\n"
     ]
    }
   ],
   "source": [
    "genProb = GenerateProbability(NumState, NumColorBall)\n",
    "pi = genProb.genProbStateBegin()\n",
    "B = genProb.genProbBallColor()\n",
    "A = genProb.genProbState()\n",
    "print(\"pi:\\n\",pi[0])\n",
    "print(\"A:\\n\",A)\n",
    "print(\"B:\\n\",B)"
   ]
  },
  {
   "cell_type": "code",
   "execution_count": 4,
   "metadata": {},
   "outputs": [],
   "source": [
    "observation_str = np.array([redID, blueID, yellowID, redID])\n",
    "mrk = HMM_Function(pi, A, B, observation_str)"
   ]
  },
  {
   "cell_type": "code",
   "execution_count": 5,
   "metadata": {},
   "outputs": [
    {
     "name": "stdout",
     "output_type": "stream",
     "text": [
      "[[0.1054 0.1056 0.1188]]\n",
      "[[0.03549314 0.0358836  0.04500406]]\n",
      "[[0.014025   0.01279096 0.01005912]]\n",
      "[[0.00447833 0.00365724 0.00405063]]\n"
     ]
    },
    {
     "data": {
      "text/plain": [
       "0.012186200732295404"
      ]
     },
     "execution_count": 5,
     "metadata": {},
     "output_type": "execute_result"
    }
   ],
   "source": [
    "mrk.calculate_Problem1()"
   ]
  },
  {
   "cell_type": "code",
   "execution_count": 6,
   "metadata": {},
   "outputs": [
    {
     "name": "stdout",
     "output_type": "stream",
     "text": [
      "[[0.1054     0.01339634 0.00203576 0.00028378]\n",
      " [0.1056     0.0161568  0.00229642 0.0002097 ]\n",
      " [0.1188     0.01688544 0.0016383  0.00029555]]\n",
      "[[0 0 1 0]\n",
      " [0 2 2 2]\n",
      " [0 1 1 1]]\n"
     ]
    },
    {
     "data": {
      "text/plain": [
       "[1, 2, 1, 0]"
      ]
     },
     "execution_count": 6,
     "metadata": {},
     "output_type": "execute_result"
    }
   ],
   "source": [
    "mrk.calculate_Problem2()"
   ]
  },
  {
   "cell_type": "code",
   "execution_count": 13,
   "metadata": {},
   "outputs": [
    {
     "name": "stdout",
     "output_type": "stream",
     "text": [
      "=====Starting...=====\n",
      "At state:  0\n",
      "Pick ball:  red\n",
      "=====Started========\n",
      "At state:  1\n",
      "Pick ball:  blue\n",
      "At state:  0\n",
      "Pick ball:  red\n",
      "At state:  0\n",
      "Pick ball:  red\n",
      "At state:  1\n",
      "Pick ball:  blue\n",
      "At state:  0\n",
      "Pick ball:  red\n",
      "At state:  1\n",
      "Pick ball:  blue\n",
      "At state:  1\n",
      "Pick ball:  blue\n",
      "At state:  2\n",
      "Pick ball:  red\n",
      "At state:  0\n",
      "Pick ball:  red\n",
      "At state:  2\n",
      "Pick ball:  red\n",
      "At state:  2\n",
      "Pick ball:  red\n",
      "At state:  0\n",
      "Pick ball:  red\n",
      "At state:  1\n",
      "Pick ball:  blue\n",
      "At state:  1\n",
      "Pick ball:  yellow\n",
      "At state:  2\n",
      "Pick ball:  red\n",
      "At state:  2\n",
      "Pick ball:  red\n",
      "At state:  0\n",
      "Pick ball:  red\n",
      "At state:  2\n",
      "Pick ball:  red\n",
      "At state:  1\n",
      "Pick ball:  yellow\n",
      "At state:  2\n",
      "Pick ball:  red\n",
      "At state:  1\n",
      "Pick ball:  blue\n",
      "At state:  0\n",
      "Pick ball:  red\n",
      "At state:  0\n",
      "Pick ball:  red\n",
      "At state:  0\n",
      "Pick ball:  red\n",
      "At state:  1\n",
      "Pick ball:  blue\n",
      "At state:  1\n",
      "Pick ball:  blue\n",
      "At state:  0\n",
      "Pick ball:  red\n",
      "At state:  0\n",
      "Pick ball:  red\n",
      "At state:  1\n",
      "Pick ball:  yellow\n",
      "At state:  2\n",
      "Pick ball:  red\n",
      "At state:  2\n",
      "Pick ball:  red\n",
      "At state:  1\n",
      "Pick ball:  blue\n",
      "At state:  0\n",
      "Pick ball:  red\n",
      "At state:  1\n",
      "Pick ball:  yellow\n",
      "At state:  0\n",
      "Pick ball:  red\n",
      "At state:  2\n",
      "Pick ball:  red\n",
      "At state:  0\n",
      "Pick ball:  red\n",
      "At state:  1\n",
      "Pick ball:  yellow\n",
      "At state:  2\n",
      "Pick ball:  red\n",
      "At state:  2\n",
      "Pick ball:  red\n",
      "At state:  1\n",
      "Pick ball:  blue\n",
      "At state:  0\n",
      "Pick ball:  red\n",
      "At state:  2\n",
      "Pick ball:  blue\n",
      "At state:  0\n",
      "Pick ball:  red\n",
      "At state:  2\n",
      "Pick ball:  red\n",
      "At state:  1\n",
      "Pick ball:  blue\n",
      "At state:  0\n",
      "Pick ball:  red\n",
      "At state:  0\n",
      "Pick ball:  red\n",
      "At state:  2\n",
      "Pick ball:  red\n",
      "At state:  2\n",
      "Pick ball:  red\n",
      "At state:  1\n",
      "Pick ball:  blue\n",
      "At state:  0\n",
      "Pick ball:  red\n",
      "At state:  2\n",
      "Pick ball:  red\n",
      "At state:  1\n",
      "Pick ball:  blue\n",
      "At state:  2\n",
      "Pick ball:  red\n",
      "At state:  1\n",
      "Pick ball:  yellow\n",
      "At state:  0\n",
      "Pick ball:  red\n",
      "At state:  0\n",
      "Pick ball:  red\n",
      "At state:  0\n",
      "Pick ball:  red\n",
      "At state:  1\n",
      "Pick ball:  yellow\n",
      "At state:  1\n",
      "Pick ball:  yellow\n",
      "At state:  0\n",
      "Pick ball:  red\n",
      "At state:  0\n",
      "Pick ball:  red\n",
      "At state:  2\n",
      "Pick ball:  blue\n",
      "At state:  2\n",
      "Pick ball:  blue\n",
      "At state:  2\n",
      "Pick ball:  blue\n",
      "At state:  2\n",
      "Pick ball:  red\n",
      "At state:  0\n",
      "Pick ball:  red\n",
      "At state:  0\n",
      "Pick ball:  red\n",
      "At state:  0\n",
      "Pick ball:  red\n",
      "At state:  2\n",
      "Pick ball:  red\n",
      "At state:  2\n",
      "Pick ball:  red\n",
      "At state:  0\n",
      "Pick ball:  red\n",
      "At state:  1\n",
      "Pick ball:  blue\n",
      "At state:  2\n",
      "Pick ball:  red\n",
      "At state:  2\n",
      "Pick ball:  red\n",
      "At state:  2\n",
      "Pick ball:  red\n",
      "At state:  1\n",
      "Pick ball:  blue\n",
      "At state:  2\n",
      "Pick ball:  blue\n",
      "At state:  0\n",
      "Pick ball:  red\n",
      "At state:  0\n",
      "Pick ball:  red\n",
      "At state:  2\n",
      "Pick ball:  red\n",
      "At state:  1\n",
      "Pick ball:  blue\n",
      "At state:  2\n",
      "Pick ball:  red\n",
      "At state:  2\n",
      "Pick ball:  red\n",
      "At state:  0\n",
      "Pick ball:  red\n",
      "At state:  2\n",
      "Pick ball:  red\n",
      "At state:  0\n",
      "Pick ball:  red\n",
      "At state:  0\n",
      "Pick ball:  red\n",
      "At state:  0\n",
      "Pick ball:  red\n",
      "At state:  0\n",
      "Pick ball:  red\n",
      "At state:  0\n",
      "Pick ball:  red\n",
      "At state:  0\n",
      "Pick ball:  red\n",
      "At state:  0\n",
      "Pick ball:  red\n",
      "At state:  0\n",
      "Pick ball:  red\n",
      "At state:  0\n",
      "Pick ball:  red\n",
      "At state:  2\n",
      "Pick ball:  red\n",
      "At state:  1\n",
      "Pick ball:  blue\n",
      "At state:  0\n",
      "Pick ball:  red\n",
      "At state:  0\n",
      "Pick ball:  red\n"
     ]
    }
   ],
   "source": [
    "tmp = GenerateData(pi, A, B)\n",
    "observation = tmp.generateRandomData(100)"
   ]
  },
  {
   "cell_type": "code",
   "execution_count": 19,
   "metadata": {},
   "outputs": [
    {
     "name": "stdout",
     "output_type": "stream",
     "text": [
      "Reesimattion done at step = 1905\n",
      "A: \n",
      " [[0.7659 0.     0.2341]\n",
      " [0.6808 0.2273 0.0919]\n",
      " [0.     0.9902 0.0098]]\n",
      "B: \n",
      " [[0.8701 0.     0.1299]\n",
      " [0.     1.     0.    ]\n",
      " [1.     0.     0.    ]]\n",
      "pi: \n",
      " [0. 0. 1.]\n"
     ]
    },
    {
     "data": {
      "text/plain": [
       "<HMMfunctions.HMMReestimation at 0x241e8ad66d8>"
      ]
     },
     "execution_count": 19,
     "metadata": {},
     "output_type": "execute_result"
    }
   ],
   "source": [
    "opt = HMMReestimation(A, B, pi, NumState, NumColorBall, observation)\n",
    "NSteps = 1000000\n",
    "epsilon = 0.0000000001\n",
    "opt.fit(NSteps, epsilon)"
   ]
  },
  {
   "cell_type": "code",
   "execution_count": null,
   "metadata": {},
   "outputs": [],
   "source": [
    "\n",
    "    "
   ]
  },
  {
   "cell_type": "code",
   "execution_count": null,
   "metadata": {},
   "outputs": [],
   "source": []
  },
  {
   "cell_type": "code",
   "execution_count": null,
   "metadata": {},
   "outputs": [],
   "source": []
  },
  {
   "cell_type": "code",
   "execution_count": null,
   "metadata": {},
   "outputs": [],
   "source": []
  },
  {
   "cell_type": "code",
   "execution_count": null,
   "metadata": {},
   "outputs": [],
   "source": []
  },
  {
   "cell_type": "code",
   "execution_count": null,
   "metadata": {},
   "outputs": [],
   "source": []
  }
 ],
 "metadata": {
  "kernelspec": {
   "display_name": "Python 3",
   "language": "python",
   "name": "python3"
  },
  "language_info": {
   "codemirror_mode": {
    "name": "ipython",
    "version": 3
   },
   "file_extension": ".py",
   "mimetype": "text/x-python",
   "name": "python",
   "nbconvert_exporter": "python",
   "pygments_lexer": "ipython3",
   "version": "3.7.3"
  }
 },
 "nbformat": 4,
 "nbformat_minor": 2
}
