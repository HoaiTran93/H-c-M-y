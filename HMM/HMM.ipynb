{
 "cells": [
  {
   "cell_type": "code",
   "execution_count": 1,
   "metadata": {},
   "outputs": [],
   "source": [
    "import numpy as np\n",
    "from GenerateData import GenerateData\n",
    "from GenerateData import GenerateProbability\n",
    "from HMMfunctions import HMM_Function\n",
    "from HMMfunctions import HMMReestimation"
   ]
  },
  {
   "cell_type": "code",
   "execution_count": 2,
   "metadata": {},
   "outputs": [],
   "source": [
    "NumState = 3\n",
    "NumColorBall = 3 #fixed with red, blue, yellow\n",
    "redID = 0\n",
    "blueID = 1\n",
    "yellowID = 2"
   ]
  },
  {
   "cell_type": "code",
   "execution_count": 3,
   "metadata": {},
   "outputs": [
    {
     "name": "stdout",
     "output_type": "stream",
     "text": [
      "pi:\n",
      " [0.35 0.36 0.29]\n",
      "A:\n",
      " [[0.3  0.36 0.34]\n",
      " [0.4  0.25 0.35]\n",
      " [0.31 0.27 0.42]]\n",
      "B:\n",
      " [[0.39 0.31 0.3 ]\n",
      " [0.29 0.3  0.41]\n",
      " [0.31 0.4  0.29]]\n"
     ]
    }
   ],
   "source": [
    "genProb = GenerateProbability(NumState, NumColorBall)\n",
    "pi = genProb.genProbStateBegin()\n",
    "B = genProb.genProbBallColor()\n",
    "A = genProb.genProbState()\n",
    "print(\"pi:\\n\",pi[0])\n",
    "print(\"A:\\n\",A)\n",
    "print(\"B:\\n\",B)"
   ]
  },
  {
   "cell_type": "code",
   "execution_count": 4,
   "metadata": {},
   "outputs": [],
   "source": [
    "observation_str = np.array([redID, blueID, yellowID, redID])\n",
    "mrk = HMM_Function(pi, A, B, observation_str)"
   ]
  },
  {
   "cell_type": "code",
   "execution_count": 5,
   "metadata": {},
   "outputs": [
    {
     "name": "stdout",
     "output_type": "stream",
     "text": [
      "[[0.1365 0.1044 0.0899]]\n",
      "[[0.03427949 0.0298539  0.0482832 ]]\n",
      "[[0.01115796 0.01346463 0.01229102]]\n",
      "[[0.00489195 0.00310346 0.00423725]]\n"
     ]
    },
    {
     "data": {
      "text/plain": [
       "0.012232663523103596"
      ]
     },
     "execution_count": 5,
     "metadata": {},
     "output_type": "execute_result"
    }
   ],
   "source": [
    "mrk.calculate_Problem1()"
   ]
  },
  {
   "cell_type": "code",
   "execution_count": 6,
   "metadata": {},
   "outputs": [
    {
     "name": "stdout",
     "output_type": "stream",
     "text": [
      "[[0.1365     0.0129456  0.00176904 0.00032059]\n",
      " [0.1044     0.014742   0.00205503 0.00018469]\n",
      " [0.0899     0.018564   0.0022611  0.00029439]]\n",
      "[[0 1 1 1]\n",
      " [0 0 2 0]\n",
      " [0 0 2 2]]\n"
     ]
    },
    {
     "data": {
      "text/plain": [
       "[1, 2, 0, 0]"
      ]
     },
     "execution_count": 6,
     "metadata": {},
     "output_type": "execute_result"
    }
   ],
   "source": [
    "mrk.calculate_Problem2()"
   ]
  },
  {
   "cell_type": "code",
   "execution_count": 7,
   "metadata": {},
   "outputs": [
    {
     "name": "stdout",
     "output_type": "stream",
     "text": [
      "=====Starting...=====\n",
      "At state:  1\n",
      "Pick ball:  red\n",
      "=====Started========\n",
      "At state:  0\n",
      "Pick ball:  blue\n",
      "At state:  1\n",
      "Pick ball:  yellow\n",
      "At state:  0\n",
      "Pick ball:  yellow\n",
      "At state:  2\n",
      "Pick ball:  blue\n",
      "At state:  1\n",
      "Pick ball:  red\n",
      "At state:  0\n",
      "Pick ball:  yellow\n",
      "At state:  0\n",
      "Pick ball:  red\n",
      "At state:  1\n",
      "Pick ball:  yellow\n",
      "At state:  0\n",
      "Pick ball:  blue\n",
      "At state:  0\n",
      "Pick ball:  yellow\n",
      "At state:  1\n",
      "Pick ball:  red\n",
      "At state:  2\n",
      "Pick ball:  blue\n",
      "At state:  2\n",
      "Pick ball:  red\n",
      "At state:  2\n",
      "Pick ball:  yellow\n",
      "At state:  0\n",
      "Pick ball:  yellow\n",
      "At state:  0\n",
      "Pick ball:  yellow\n",
      "At state:  0\n",
      "Pick ball:  red\n",
      "At state:  0\n",
      "Pick ball:  red\n",
      "At state:  0\n",
      "Pick ball:  blue\n",
      "At state:  2\n",
      "Pick ball:  yellow\n",
      "At state:  0\n",
      "Pick ball:  yellow\n",
      "At state:  2\n",
      "Pick ball:  yellow\n",
      "At state:  1\n",
      "Pick ball:  red\n",
      "At state:  2\n",
      "Pick ball:  blue\n",
      "At state:  1\n",
      "Pick ball:  red\n",
      "At state:  2\n",
      "Pick ball:  red\n",
      "At state:  0\n",
      "Pick ball:  yellow\n",
      "At state:  1\n",
      "Pick ball:  blue\n",
      "At state:  2\n",
      "Pick ball:  red\n",
      "At state:  2\n",
      "Pick ball:  red\n",
      "At state:  0\n",
      "Pick ball:  red\n",
      "At state:  1\n",
      "Pick ball:  red\n",
      "At state:  0\n",
      "Pick ball:  blue\n",
      "At state:  1\n",
      "Pick ball:  blue\n",
      "At state:  2\n",
      "Pick ball:  blue\n",
      "At state:  2\n",
      "Pick ball:  red\n",
      "At state:  2\n",
      "Pick ball:  blue\n",
      "At state:  2\n",
      "Pick ball:  red\n",
      "At state:  0\n",
      "Pick ball:  red\n",
      "At state:  0\n",
      "Pick ball:  yellow\n",
      "At state:  0\n",
      "Pick ball:  yellow\n",
      "At state:  2\n",
      "Pick ball:  blue\n",
      "At state:  2\n",
      "Pick ball:  red\n",
      "At state:  0\n",
      "Pick ball:  blue\n",
      "At state:  2\n",
      "Pick ball:  blue\n",
      "At state:  2\n",
      "Pick ball:  yellow\n",
      "At state:  2\n",
      "Pick ball:  blue\n",
      "At state:  0\n",
      "Pick ball:  blue\n",
      "At state:  2\n",
      "Pick ball:  red\n",
      "At state:  1\n",
      "Pick ball:  blue\n",
      "At state:  0\n",
      "Pick ball:  red\n",
      "At state:  1\n",
      "Pick ball:  yellow\n",
      "At state:  0\n",
      "Pick ball:  yellow\n",
      "At state:  2\n",
      "Pick ball:  red\n",
      "At state:  2\n",
      "Pick ball:  blue\n",
      "At state:  1\n",
      "Pick ball:  yellow\n",
      "At state:  1\n",
      "Pick ball:  red\n",
      "At state:  2\n",
      "Pick ball:  red\n",
      "At state:  0\n",
      "Pick ball:  blue\n",
      "At state:  2\n",
      "Pick ball:  red\n",
      "At state:  0\n",
      "Pick ball:  red\n",
      "At state:  2\n",
      "Pick ball:  blue\n",
      "At state:  0\n",
      "Pick ball:  yellow\n",
      "At state:  1\n",
      "Pick ball:  blue\n",
      "At state:  0\n",
      "Pick ball:  blue\n",
      "At state:  2\n",
      "Pick ball:  blue\n",
      "At state:  1\n",
      "Pick ball:  blue\n",
      "At state:  0\n",
      "Pick ball:  blue\n",
      "At state:  1\n",
      "Pick ball:  yellow\n",
      "At state:  0\n",
      "Pick ball:  blue\n",
      "At state:  2\n",
      "Pick ball:  red\n",
      "At state:  1\n",
      "Pick ball:  yellow\n",
      "At state:  1\n",
      "Pick ball:  yellow\n",
      "At state:  1\n",
      "Pick ball:  yellow\n",
      "At state:  2\n",
      "Pick ball:  yellow\n",
      "At state:  2\n",
      "Pick ball:  blue\n",
      "At state:  2\n",
      "Pick ball:  blue\n",
      "At state:  0\n",
      "Pick ball:  red\n",
      "At state:  0\n",
      "Pick ball:  red\n",
      "At state:  2\n",
      "Pick ball:  yellow\n",
      "At state:  0\n",
      "Pick ball:  blue\n",
      "At state:  2\n",
      "Pick ball:  red\n",
      "At state:  2\n",
      "Pick ball:  red\n",
      "At state:  2\n",
      "Pick ball:  blue\n",
      "At state:  2\n",
      "Pick ball:  blue\n",
      "At state:  0\n",
      "Pick ball:  red\n",
      "At state:  1\n",
      "Pick ball:  red\n",
      "At state:  0\n",
      "Pick ball:  blue\n",
      "At state:  1\n",
      "Pick ball:  red\n",
      "At state:  2\n",
      "Pick ball:  yellow\n",
      "At state:  0\n",
      "Pick ball:  red\n",
      "At state:  1\n",
      "Pick ball:  red\n",
      "At state:  2\n",
      "Pick ball:  yellow\n",
      "At state:  2\n",
      "Pick ball:  red\n",
      "At state:  2\n",
      "Pick ball:  blue\n",
      "At state:  1\n",
      "Pick ball:  red\n",
      "At state:  1\n",
      "Pick ball:  blue\n",
      "At state:  1\n",
      "Pick ball:  blue\n",
      "At state:  1\n",
      "Pick ball:  blue\n",
      "At state:  1\n",
      "Pick ball:  blue\n"
     ]
    }
   ],
   "source": [
    "tmp = GenerateData(pi, A, B)\n",
    "observation = tmp.generateRandomData(100)"
   ]
  },
  {
   "cell_type": "code",
   "execution_count": 8,
   "metadata": {},
   "outputs": [
    {
     "name": "stdout",
     "output_type": "stream",
     "text": [
      "Reesimattion done at step = 2922\n",
      "A: \n",
      " [[0.3243 0.2112 0.4644]\n",
      " [0.2614 0.3691 0.3695]\n",
      " [0.4426 0.1371 0.4203]]\n",
      "B: \n",
      " [[1.     0.     0.    ]\n",
      " [0.     0.     1.    ]\n",
      " [0.     0.8691 0.1309]]\n",
      "pi: \n",
      " [1. 0. 0.]\n"
     ]
    },
    {
     "data": {
      "text/plain": [
       "<HMMfunctions.HMMReestimation at 0x206b5d156d8>"
      ]
     },
     "execution_count": 8,
     "metadata": {},
     "output_type": "execute_result"
    }
   ],
   "source": [
    "opt = HMMReestimation(A, B, pi, NumState, NumColorBall, observation)\n",
    "NSteps = 1000000\n",
    "epsilon = 0.0000000001\n",
    "opt.fit(NSteps, epsilon)"
   ]
  },
  {
   "cell_type": "code",
   "execution_count": null,
   "metadata": {},
   "outputs": [],
   "source": [
    "\n",
    "    "
   ]
  },
  {
   "cell_type": "code",
   "execution_count": null,
   "metadata": {},
   "outputs": [],
   "source": []
  },
  {
   "cell_type": "code",
   "execution_count": null,
   "metadata": {},
   "outputs": [],
   "source": []
  },
  {
   "cell_type": "code",
   "execution_count": null,
   "metadata": {},
   "outputs": [],
   "source": []
  },
  {
   "cell_type": "code",
   "execution_count": null,
   "metadata": {},
   "outputs": [],
   "source": []
  },
  {
   "cell_type": "code",
   "execution_count": null,
   "metadata": {},
   "outputs": [],
   "source": []
  }
 ],
 "metadata": {
  "kernelspec": {
   "display_name": "Python 3",
   "language": "python",
   "name": "python3"
  },
  "language_info": {
   "codemirror_mode": {
    "name": "ipython",
    "version": 3
   },
   "file_extension": ".py",
   "mimetype": "text/x-python",
   "name": "python",
   "nbconvert_exporter": "python",
   "pygments_lexer": "ipython3",
   "version": "3.7.3"
  }
 },
 "nbformat": 4,
 "nbformat_minor": 2
}
