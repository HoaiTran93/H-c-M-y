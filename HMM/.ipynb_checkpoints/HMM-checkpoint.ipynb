{
 "cells": [
  {
   "cell_type": "code",
   "execution_count": 1,
   "metadata": {},
   "outputs": [],
   "source": [
    "import numpy as np\n",
    "from GenerateData import GenerateData\n",
    "from GenerateData import GenerateProbability\n",
    "from HMMfunctions import HMM_Function"
   ]
  },
  {
   "cell_type": "code",
   "execution_count": 2,
   "metadata": {},
   "outputs": [],
   "source": [
    "NumState = 3\n",
    "NumColorBall = 3 #fixed with red, blue, yellow\n",
    "redID = 0\n",
    "blueID = 1\n",
    "yellowID = 2"
   ]
  },
  {
   "cell_type": "code",
   "execution_count": 3,
   "metadata": {},
   "outputs": [
    {
     "name": "stdout",
     "output_type": "stream",
     "text": [
      "pi:\n",
      " [0.34 0.37 0.29]\n",
      "A:\n",
      " [[0.33 0.25 0.42]\n",
      " [0.34 0.33 0.33]\n",
      " [0.29 0.33 0.38]]\n",
      "B:\n",
      " [[0.31 0.4  0.29]\n",
      " [0.46 0.25 0.29]\n",
      " [0.32 0.34 0.34]]\n"
     ]
    }
   ],
   "source": [
    "genProb = GenerateProbability(NumState, NumColorBall)\n",
    "pStateBegin = genProb.genProbStateBegin()\n",
    "pColorball = genProb.genProbBallColor()\n",
    "pState = genProb.genProbState()\n",
    "print(\"pi:\\n\",pStateBegin[0])\n",
    "print(\"A:\\n\",pState)\n",
    "print(\"B:\\n\",pColorball)"
   ]
  },
  {
   "cell_type": "code",
   "execution_count": 4,
   "metadata": {},
   "outputs": [
    {
     "name": "stdout",
     "output_type": "stream",
     "text": [
      "=====Starting...=====\n",
      "At state:  0\n",
      "Pick ball:  yellow\n",
      "=====Started========\n",
      "At state:  0\n",
      "Pick ball:  yellow\n",
      "At state:  2\n",
      "Pick ball:  red\n",
      "At state:  0\n",
      "Pick ball:  yellow\n",
      "At state:  1\n",
      "Pick ball:  yellow\n",
      "At state:  0\n",
      "Pick ball:  red\n",
      "At state:  0\n",
      "Pick ball:  blue\n",
      "At state:  2\n",
      "Pick ball:  yellow\n",
      "At state:  2\n",
      "Pick ball:  red\n",
      "At state:  0\n",
      "Pick ball:  blue\n",
      "At state:  2\n",
      "Pick ball:  yellow\n"
     ]
    },
    {
     "data": {
      "text/plain": [
       "array([[0, 0, 2, 0, 1, 0, 0, 2, 2, 0, 2],\n",
       "       [2, 2, 0, 2, 2, 0, 1, 2, 0, 1, 2]])"
      ]
     },
     "execution_count": 4,
     "metadata": {},
     "output_type": "execute_result"
    }
   ],
   "source": [
    "tmp = GenerateData(pStateBegin, pState, pColorball)\n",
    "tmp.generateRandomData(10)"
   ]
  },
  {
   "cell_type": "code",
   "execution_count": 5,
   "metadata": {},
   "outputs": [],
   "source": [
    "observation_str = np.array([redID, blueID, yellowID, redID])\n",
    "mrk = HMM_Function(pStateBegin, pState, pColorball, observation_str)"
   ]
  },
  {
   "cell_type": "code",
   "execution_count": 6,
   "metadata": {},
   "outputs": [
    {
     "name": "stdout",
     "output_type": "stream",
     "text": [
      "[[0.1054 0.1702 0.0928]]\n",
      "[[0.0478248  0.028285   0.04613732]]\n",
      "[[0.01124588 0.01058951 0.0159639 ]]\n",
      "[[0.00370174 0.00532408 0.00457091]]\n"
     ]
    },
    {
     "data": {
      "text/plain": [
       "0.013596737666006803"
      ]
     },
     "execution_count": 6,
     "metadata": {},
     "output_type": "execute_result"
    }
   ],
   "source": [
    "mrk.calculate_Problem1()"
   ]
  },
  {
   "cell_type": "code",
   "execution_count": 7,
   "metadata": {},
   "outputs": [
    {
     "name": "stdout",
     "output_type": "stream",
     "text": [
      "[[0.1054     0.0231472  0.00221519 0.00029716]\n",
      " [0.1702     0.0140415  0.00182753 0.00050176]\n",
      " [0.0928     0.01909644 0.00330542 0.00040194]]\n",
      "[[0 1 0 2]\n",
      " [0 1 2 2]\n",
      " [0 1 0 2]]\n"
     ]
    },
    {
     "data": {
      "text/plain": [
       "[2, 0, 1, 0]"
      ]
     },
     "execution_count": 7,
     "metadata": {},
     "output_type": "execute_result"
    }
   ],
   "source": [
    "mrk.calculate_Problem2()"
   ]
  },
  {
   "cell_type": "code",
   "execution_count": null,
   "metadata": {},
   "outputs": [],
   "source": []
  },
  {
   "cell_type": "code",
   "execution_count": null,
   "metadata": {},
   "outputs": [],
   "source": [
    "\n",
    "    "
   ]
  },
  {
   "cell_type": "code",
   "execution_count": null,
   "metadata": {},
   "outputs": [],
   "source": []
  },
  {
   "cell_type": "code",
   "execution_count": null,
   "metadata": {},
   "outputs": [],
   "source": []
  },
  {
   "cell_type": "code",
   "execution_count": null,
   "metadata": {},
   "outputs": [],
   "source": []
  },
  {
   "cell_type": "code",
   "execution_count": null,
   "metadata": {},
   "outputs": [],
   "source": []
  },
  {
   "cell_type": "code",
   "execution_count": null,
   "metadata": {},
   "outputs": [],
   "source": []
  }
 ],
 "metadata": {
  "kernelspec": {
   "display_name": "Python 3",
   "language": "python",
   "name": "python3"
  },
  "language_info": {
   "codemirror_mode": {
    "name": "ipython",
    "version": 3
   },
   "file_extension": ".py",
   "mimetype": "text/x-python",
   "name": "python",
   "nbconvert_exporter": "python",
   "pygments_lexer": "ipython3",
   "version": "3.7.3"
  }
 },
 "nbformat": 4,
 "nbformat_minor": 2
}
