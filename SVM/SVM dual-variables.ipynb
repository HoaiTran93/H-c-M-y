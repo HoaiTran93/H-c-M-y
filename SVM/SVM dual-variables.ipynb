{
 "cells": [
  {
   "cell_type": "code",
   "execution_count": 1,
   "metadata": {},
   "outputs": [],
   "source": [
    "import numpy as np \n",
    "import matplotlib.pyplot as plt\n",
    "from scipy.spatial.distance import cdist\n",
    "from cvxopt import matrix, solvers\n",
    "import CommonFunction as cf\n",
    "from sklearn.utils import shuffle\n",
    "from SVMFunction import dualSVM\n",
    "from CommonFunction import plotSVM"
   ]
  },
  {
   "cell_type": "code",
   "execution_count": 17,
   "metadata": {},
   "outputs": [
    {
     "data": {
      "image/png": "[encoded data removed]",
      "text/plain": [
       "<Figure size 432x288 with 1 Axes>"
      ]
     },
     "metadata": {},
     "output_type": "display_data"
    }
   ],
   "source": [
    "np.random.seed(22)\n",
    "means = [[2, 2], [4, 2]]\n",
    "cov = [[.3, .2], [.2, .3]]\n",
    "Nsample = 10\n",
    "X0 = np.random.multivariate_normal(means[0], cov, Nsample) # class 1\n",
    "X1 = np.random.multivariate_normal(means[1], cov, Nsample) # class -1 \n",
    "\n",
    "funcs = [\n",
    "    lambda x: x[:, 0],\n",
    "    lambda x: x[:, 1],\n",
    "#    lambda x: np.multiply(x[:, 0], x[:, 1]),\n",
    "#    lambda x: np.power(x[:, 0], 2),\n",
    "#    lambda x: np.power(x[:, 1], 2),\n",
    "#    lambda x: np.multiply(np.power(x[:, 0], 2), x[:, 1]),\n",
    "#    lambda x: np.multiply(np.power(x[:, 1], 2), x[:, 0]),\n",
    "#    lambda x: np.power(x[:, 0], 3),\n",
    "#    lambda x: np.power(x[:, 1], 3),\n",
    "#    lambda x: np.multiply(np.power(x[:, 0], 3), x[:, 1]),\n",
    "#    lambda x: np.multiply(np.power(x[:, 1], 3), x[:, 0]),\n",
    "#    lambda x: np.multiply(np.power(x[:, 0], 2), np.power(x[:, 1], 2)),\n",
    "#    lambda x: np.power(x[:, 0], 4),\n",
    "#    lambda x: np.power(x[:, 1], 4),\n",
    "]\n",
    "# plot points\n",
    "plt.plot(X0[:, 0], X0[:, 1], 'g^', markersize = 8, alpha = .8)\n",
    "plt.plot(X1[:, 0], X1[:, 1], 'ro', markersize = 8, alpha = .8)\n",
    "plt.axis('equal')\n",
    "# axis limits\n",
    "plt.ylim(0, 3)\n",
    "plt.xlim(2, 4)\n",
    "\n",
    "# hide tikcs \n",
    "cur_axes = plt.gca()\n",
    "cur_axes.axes.get_xaxis().set_ticks([])\n",
    "cur_axes.axes.get_yaxis().set_ticks([])\n",
    "\n",
    "plt.xlabel('$x_1$', fontsize = 20)\n",
    "plt.ylabel('$x_2$', fontsize = 20)\n",
    "\n",
    "plt.show()"
   ]
  },
  {
   "cell_type": "code",
   "execution_count": 18,
   "metadata": {},
   "outputs": [
    {
     "name": "stdout",
     "output_type": "stream",
     "text": [
      "done fitting, w = \n",
      "[[-1.91794504]\n",
      " [ 0.64405357]]\n",
      "b = 4.6129286603479915\n",
      "\n"
     ]
    }
   ],
   "source": [
    "X0 = np.random.multivariate_normal(means[0], cov, Nsample) # class 1\n",
    "X1 = np.random.multivariate_normal(means[1], cov, Nsample) # class -1 \n",
    "\n",
    "X = np.concatenate((X0, X1), axis = 0) # all data \n",
    "t = np.concatenate((np.ones((Nsample, 1)), -1*np.ones((Nsample, 1))), axis = 0) # labels \n",
    "X,t = shuffle(X, t)\n",
    "\n",
    "svm = dualSVM(X, funcs, t).fit()\n",
    "\n",
    "w = svm.w.ravel()\n",
    "a, b = w\n",
    "c = svm.b\n",
    "slope = -a/b\n",
    "offset = -c/b\n",
    "\n"
   ]
  },
  {
   "cell_type": "code",
   "execution_count": 19,
   "metadata": {},
   "outputs": [
    {
     "name": "stdout",
     "output_type": "stream",
     "text": [
      "[[3.60992639 2.03509743]\n",
      " [2.67924793 2.36893594]\n",
      " [3.96389821 3.08918682]]\n"
     ]
    },
    {
     "data": {
      "image/png": "[encoded data removed]",
      "text/plain": [
       "<Figure size 432x288 with 1 Axes>"
      ]
     },
     "metadata": {
      "needs_background": "light"
     },
     "output_type": "display_data"
    }
   ],
   "source": [
    "# plot points\n",
    "plt.plot(X0[:, 0], X0[:, 1], 'g^', markersize = 8, alpha = .8, label = \"class 1\")\n",
    "plt.plot(X1[:, 0], X1[:, 1], 'ro', markersize = 8, alpha = .8, label = \"class -1\")\n",
    "plt.axis('equal')\n",
    "# axis limits\n",
    "plt.ylim(0, 4)\n",
    "plt.xlim(2, 4)\n",
    "\n",
    "\n",
    "plt.xlabel('$x_1$', fontsize = 20)\n",
    "plt.ylabel('$x_2$', fontsize = 20)\n",
    "\n",
    "\n",
    "\n",
    "w = svm.w.ravel()\n",
    "a, b = w\n",
    "c = svm.b\n",
    "slope = -a/b\n",
    "offset = -c/b\n",
    "\n",
    "w_xy = np.array([slope, offset]).reshape(-1, 1)\n",
    "Xdraw = np.linspace(0, 4, 100).reshape(-1, 1)\n",
    "Xdraw_ = np.hstack((Xdraw, np.ones(100).reshape(-1, 1)))\n",
    "ydraw = Xdraw_.dot(w_xy)\n",
    "\n",
    "plt.plot(Xdraw, ydraw, label = \"split\")\n",
    "\n",
    "sv_points = svm.supportVectorPoints(X)\n",
    "print(sv_points)\n",
    "Xmark = sv_points[:, 0].ravel()\n",
    "ymark = sv_points[:, 1].ravel()\n",
    "\n",
    "plt.scatter(Xmark, ymark, marker = 's', s=80, facecolors='none', edgecolors='k')\n",
    "\n",
    "plotSVM(svm).plotlineSVM(dual = True)\n",
    "\n",
    "plt.legend()\n",
    "plt.show()"
   ]
  },
  {
   "cell_type": "code",
   "execution_count": null,
   "metadata": {},
   "outputs": [],
   "source": []
  }
 ],
 "metadata": {
  "kernelspec": {
   "display_name": "Python 3",
   "language": "python",
   "name": "python3"
  },
  "language_info": {
   "codemirror_mode": {
    "name": "ipython",
    "version": 3
   },
   "file_extension": ".py",
   "mimetype": "text/x-python",
   "name": "python",
   "nbconvert_exporter": "python",
   "pygments_lexer": "ipython3",
   "version": "3.7.3"
  }
 },
 "nbformat": 4,
 "nbformat_minor": 2
}
