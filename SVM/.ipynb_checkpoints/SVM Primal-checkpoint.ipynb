{
 "cells": [
  {
   "cell_type": "code",
   "execution_count": 1,
   "metadata": {},
   "outputs": [],
   "source": [
    "import numpy as np \n",
    "import matplotlib.pyplot as plt\n",
    "from scipy.spatial.distance import cdist\n",
    "from cvxopt import matrix, solvers\n",
    "from CommonFunction import plotSVM\n",
    "from sklearn.utils import shuffle\n",
    "from SVMFunction import PrimalSVM"
   ]
  },
  {
   "cell_type": "code",
   "execution_count": 2,
   "metadata": {},
   "outputs": [
    {
     "data": {
      "image/png": "[encoded data removed]",
      "text/plain": [
       "<Figure size 432x288 with 1 Axes>"
      ]
     },
     "metadata": {},
     "output_type": "display_data"
    }
   ],
   "source": [
    "np.random.seed(22)\n",
    "means = [[2, 2], [4, 2]]\n",
    "cov = [[.3, .2], [.2, .3]]\n",
    "Nsample = 10\n",
    "X0 = np.random.multivariate_normal(means[0], cov, Nsample) # class 1\n",
    "X1 = np.random.multivariate_normal(means[1], cov, Nsample) # class -1 \n",
    "\n",
    "funcs = [\n",
    "    lambda x: x[:, 0],\n",
    "    lambda x: x[:, 1],\n",
    "#    lambda x: np.multiply(x[:, 0], x[:, 1]),\n",
    "#    lambda x: np.power(x[:, 0], 2),\n",
    "#    lambda x: np.power(x[:, 1], 2),\n",
    "#    lambda x: np.multiply(np.power(x[:, 0], 2), x[:, 1]),\n",
    "#    lambda x: np.multiply(np.power(x[:, 1], 2), x[:, 0]),\n",
    "#    lambda x: np.power(x[:, 0], 3),\n",
    "#    lambda x: np.power(x[:, 1], 3),\n",
    "#    lambda x: np.multiply(np.power(x[:, 0], 3), x[:, 1]),\n",
    "#    lambda x: np.multiply(np.power(x[:, 1], 3), x[:, 0]),\n",
    "#    lambda x: np.multiply(np.power(x[:, 0], 2), np.power(x[:, 1], 2)),\n",
    "#    lambda x: np.power(x[:, 0], 4),\n",
    "#    lambda x: np.power(x[:, 1], 4),\n",
    "]\n",
    "# plot points\n",
    "plt.plot(X0[:, 0], X0[:, 1], 'g^', markersize = 8, alpha = .8)\n",
    "plt.plot(X1[:, 0], X1[:, 1], 'ro', markersize = 8, alpha = .8)\n",
    "plt.axis('equal')\n",
    "# axis limits\n",
    "plt.ylim(0, 3)\n",
    "plt.xlim(2, 4)\n",
    "\n",
    "# hide tikcs \n",
    "cur_axes = plt.gca()\n",
    "cur_axes.axes.get_xaxis().set_ticks([])\n",
    "cur_axes.axes.get_yaxis().set_ticks([])\n",
    "\n",
    "plt.xlabel('$x_1$', fontsize = 20)\n",
    "plt.ylabel('$x_2$', fontsize = 20)\n",
    "\n",
    "plt.show()"
   ]
  },
  {
   "cell_type": "code",
   "execution_count": 3,
   "metadata": {},
   "outputs": [
    {
     "name": "stdout",
     "output_type": "stream",
     "text": [
      "Done!!! \n",
      " w = \n",
      "[[-1.91794504]\n",
      " [ 0.64405357]\n",
      " [ 4.61292865]]\n",
      "range of Points=\n",
      " [[-0.59863053]\n",
      " [-0.22206586]\n",
      " [-0.55642799]\n",
      " [-0.56269439]\n",
      " [-0.19852673]\n",
      " [ 0.19852673]\n",
      " [ 0.28365433]\n",
      " [ 0.44920465]\n",
      " [-0.33558523]\n",
      " [ 0.56529918]\n",
      " [ 0.21223878]\n",
      " [-0.22362382]\n",
      " [ 0.26221927]\n",
      " [-0.25408217]\n",
      " [ 0.38053607]\n",
      " [-0.19852841]\n",
      " [ 0.50943608]\n",
      " [ 0.34611663]\n",
      " [ 0.41255144]\n",
      " [-0.49000375]]\n",
      "height of Points=\n",
      " [[3.01536498]\n",
      " [1.11856912]\n",
      " [2.80278633]\n",
      " [2.83435085]\n",
      " [1.00000001]\n",
      " [1.00000001]\n",
      " [1.4287967 ]\n",
      " [2.2626911 ]\n",
      " [1.69037812]\n",
      " [2.84747146]\n",
      " [1.06906905]\n",
      " [1.12641672]\n",
      " [1.32082604]\n",
      " [1.27983861]\n",
      " [1.91680023]\n",
      " [1.00000847]\n",
      " [2.56608316]\n",
      " [1.74342586]\n",
      " [2.07806499]\n",
      " [2.46820042]]\n"
     ]
    }
   ],
   "source": [
    "X0 = np.random.multivariate_normal(means[0], cov, Nsample) # class 1\n",
    "X1 = np.random.multivariate_normal(means[1], cov, Nsample) # class -1 \n",
    "\n",
    "X = np.concatenate((X0, X1), axis = 0) # all data \n",
    "t = np.concatenate((np.ones((Nsample, 1)), -1*np.ones((Nsample, 1))), axis = 0) # labels \n",
    "X,t = shuffle(X, t)\n",
    "\n",
    "svm = PrimalSVM(X, funcs, t).fit()\n",
    "svm.calculate(X,t)"
   ]
  },
  {
   "cell_type": "code",
   "execution_count": 4,
   "metadata": {},
   "outputs": [
    {
     "ename": "NameError",
     "evalue": "name 'self' is not defined",
     "output_type": "error",
     "traceback": [
      "\u001b[1;31m---------------------------------------------------------------------------\u001b[0m",
      "\u001b[1;31mNameError\u001b[0m                                 Traceback (most recent call last)",
      "\u001b[1;32m<ipython-input-4-6f43d212aaa4>\u001b[0m in \u001b[0;36m<module>\u001b[1;34m\u001b[0m\n\u001b[0;32m     11\u001b[0m \u001b[0mplt\u001b[0m\u001b[1;33m.\u001b[0m\u001b[0mylabel\u001b[0m\u001b[1;33m(\u001b[0m\u001b[1;34m'$x_2$'\u001b[0m\u001b[1;33m,\u001b[0m \u001b[0mfontsize\u001b[0m \u001b[1;33m=\u001b[0m \u001b[1;36m20\u001b[0m\u001b[1;33m)\u001b[0m\u001b[1;33m\u001b[0m\u001b[1;33m\u001b[0m\u001b[0m\n\u001b[0;32m     12\u001b[0m \u001b[1;33m\u001b[0m\u001b[0m\n\u001b[1;32m---> 13\u001b[1;33m \u001b[0mw\u001b[0m \u001b[1;33m=\u001b[0m \u001b[0mself\u001b[0m\u001b[1;33m.\u001b[0m\u001b[0msvm\u001b[0m\u001b[1;33m.\u001b[0m\u001b[0mw\u001b[0m\u001b[1;33m.\u001b[0m\u001b[0mravel\u001b[0m\u001b[1;33m(\u001b[0m\u001b[1;33m)\u001b[0m\u001b[1;33m\u001b[0m\u001b[1;33m\u001b[0m\u001b[0m\n\u001b[0m\u001b[0;32m     14\u001b[0m \u001b[1;33m\u001b[0m\u001b[0m\n\u001b[0;32m     15\u001b[0m \u001b[0ma\u001b[0m\u001b[1;33m,\u001b[0m \u001b[0mb\u001b[0m\u001b[1;33m,\u001b[0m \u001b[0mc\u001b[0m \u001b[1;33m=\u001b[0m \u001b[0mw\u001b[0m\u001b[1;33m\u001b[0m\u001b[1;33m\u001b[0m\u001b[0m\n",
      "\u001b[1;31mNameError\u001b[0m: name 'self' is not defined"
     ]
    },
    {
     "data": {
      "image/png": "[encoded data removed]",
      "text/plain": [
       "<Figure size 432x288 with 1 Axes>"
      ]
     },
     "metadata": {
      "needs_background": "light"
     },
     "output_type": "display_data"
    }
   ],
   "source": [
    "# plot points\n",
    "plt.plot(X0[:, 0], X0[:, 1], 'g^', markersize = 8, alpha = .8, label = \"class 1\")\n",
    "plt.plot(X1[:, 0], X1[:, 1], 'ro', markersize = 8, alpha = .8, label = \"class -1\")\n",
    "plt.axis('equal')\n",
    "# axis limits\n",
    "plt.ylim(0, 4)\n",
    "plt.xlim(2, 4)\n",
    "\n",
    "\n",
    "plt.xlabel('$x_1$', fontsize = 20)\n",
    "plt.ylabel('$x_2$', fontsize = 20)\n",
    "\n",
    "w = svm.w.ravel()\n",
    "\n",
    "a, b, c = w\n",
    "slope = -a/b\n",
    "offset = -c/b\n",
    "            \n",
    "w_xy = np.array([slope, offset]).reshape(-1, 1)\n",
    "Xdraw = np.linspace(0, 4, 100).reshape(-1, 1)\n",
    "Xdraw_ = np.hstack((Xdraw, np.ones(100).reshape(-1, 1)))\n",
    "ydraw = Xdraw_.dot(w_xy)\n",
    "\n",
    "plt.plot(Xdraw, ydraw, label = \"split\")\n",
    "\n",
    "sv_points = svm.supportVectorPoints(X)\n",
    "print(sv_points)\n",
    "Xmark = sv_points[:, 0].ravel()\n",
    "ymark = sv_points[:, 1].ravel()\n",
    "\n",
    "plt.scatter(Xmark, ymark, marker = 's', s=80, facecolors='none', edgecolors='k')\n",
    "        \n",
    "plotSVM(svm).plotlineSVM()\n",
    "\n",
    "plt.legend()\n",
    "plt.show()"
   ]
  },
  {
   "cell_type": "code",
   "execution_count": null,
   "metadata": {},
   "outputs": [],
   "source": []
  },
  {
   "cell_type": "code",
   "execution_count": null,
   "metadata": {},
   "outputs": [],
   "source": []
  },
  {
   "cell_type": "code",
   "execution_count": null,
   "metadata": {},
   "outputs": [],
   "source": []
  },
  {
   "cell_type": "code",
   "execution_count": null,
   "metadata": {},
   "outputs": [],
   "source": []
  }
 ],
 "metadata": {
  "kernelspec": {
   "display_name": "Python 3",
   "language": "python",
   "name": "python3"
  },
  "language_info": {
   "codemirror_mode": {
    "name": "ipython",
    "version": 3
   },
   "file_extension": ".py",
   "mimetype": "text/x-python",
   "name": "python",
   "nbconvert_exporter": "python",
   "pygments_lexer": "ipython3",
   "version": "3.7.3"
  }
 },
 "nbformat": 4,
 "nbformat_minor": 2
}
