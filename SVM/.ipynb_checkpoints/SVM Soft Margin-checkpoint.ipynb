{
 "cells": [
  {
   "cell_type": "code",
   "execution_count": 8,
   "metadata": {},
   "outputs": [],
   "source": [
    "import numpy as np \n",
    "import matplotlib.pyplot as plt\n",
    "from scipy.spatial.distance import cdist\n",
    "from cvxopt import matrix, solvers\n",
    "import CommonFunction as cf\n",
    "from sklearn.utils import shuffle\n",
    "from SVMFunction import SoftMargin\n",
    "from CommonFunction import plotSVM"
   ]
  },
  {
   "cell_type": "code",
   "execution_count": 12,
   "metadata": {},
   "outputs": [
    {
     "data": {
      "image/png": "[encoded data removed]",
      "text/plain": [
       "<Figure size 432x288 with 1 Axes>"
      ]
     },
     "metadata": {},
     "output_type": "display_data"
    }
   ],
   "source": [
    "means = [[2, 2], [4, 2]]\n",
    "cov = [[.7, 0], [0, .7]]\n",
    "Nsample = 20\n",
    "c = 100\n",
    "\n",
    "X0 = np.random.multivariate_normal(means[0], cov, Nsample)\n",
    "X1 = np.random.multivariate_normal(means[1], cov, Nsample)\n",
    "X1[-1, :] = [2.7, 2]\n",
    "X = np.concatenate((X0.T, X1.T), axis = 1)\n",
    "y = np.concatenate((np.ones((1, Nsample)), -1*np.ones((1, Nsample))), axis = 1)\n",
    "\n",
    "\n",
    "funcs = [\n",
    "    lambda x: x[:, 0],\n",
    "    lambda x: x[:, 1],\n",
    "#    lambda x: np.multiply(x[:, 0], x[:, 1]),\n",
    "#    lambda x: np.power(x[:, 0], 2),\n",
    "#    lambda x: np.power(x[:, 1], 2),\n",
    "#    lambda x: np.multiply(np.power(x[:, 0], 2), x[:, 1]),\n",
    "#    lambda x: np.multiply(np.power(x[:, 1], 2), x[:, 0]),\n",
    "#    lambda x: np.power(x[:, 0], 3),\n",
    "#    lambda x: np.power(x[:, 1], 3),\n",
    "#    lambda x: np.multiply(np.power(x[:, 0], 3), x[:, 1]),\n",
    "#    lambda x: np.multiply(np.power(x[:, 1], 3), x[:, 0]),\n",
    "#    lambda x: np.multiply(np.power(x[:, 0], 2), np.power(x[:, 1], 2)),\n",
    "#    lambda x: np.power(x[:, 0], 4),\n",
    "#    lambda x: np.power(x[:, 1], 4),\n",
    "]\n",
    "# plot points\n",
    "plt.plot(X0[:, 0], X0[:, 1], 'g^', markersize = 8, alpha = .8)\n",
    "plt.plot(X1[:, 0], X1[:, 1], 'ro', markersize = 8, alpha = .8)\n",
    "plt.axis('equal')\n",
    "# axis limits\n",
    "plt.ylim(0, 4)\n",
    "plt.xlim(0, 6)\n",
    "\n",
    "# hide tikcs \n",
    "cur_axes = plt.gca()\n",
    "cur_axes.axes.get_xaxis().set_ticks([])\n",
    "cur_axes.axes.get_yaxis().set_ticks([])\n",
    "\n",
    "plt.xlabel('$x_1$', fontsize = 20)\n",
    "plt.ylabel('$x_2$', fontsize = 20)\n",
    "\n",
    "plt.show()"
   ]
  },
  {
   "cell_type": "code",
   "execution_count": 13,
   "metadata": {},
   "outputs": [
    {
     "name": "stdout",
     "output_type": "stream",
     "text": [
      "[[-3.52372053]\n",
      " [-1.05158769]]\n",
      "[11.52642981]\n"
     ]
    }
   ],
   "source": [
    "X = np.concatenate((X0, X1), axis = 0) # all data \n",
    "t = np.concatenate((np.ones((Nsample, 1)), -1*np.ones((Nsample, 1))), axis = 0) # labels \n",
    "X,t = shuffle(X, t)\n",
    "\n",
    "svm = SoftMargin(X, funcs, t, c).fit()\n",
    "print(svm.w)\n",
    "print(svm.b)"
   ]
  },
  {
   "cell_type": "code",
   "execution_count": 14,
   "metadata": {},
   "outputs": [
    {
     "name": "stdout",
     "output_type": "stream",
     "text": [
      "[[2.22910145 2.54063379]\n",
      " [2.89387298 2.21496524]\n",
      " [2.40513346 1.95077565]]\n"
     ]
    },
    {
     "data": {
      "image/png": "[encoded data removed]",
      "text/plain": [
       "<Figure size 432x288 with 1 Axes>"
      ]
     },
     "metadata": {},
     "output_type": "display_data"
    }
   ],
   "source": [
    "# plot points\n",
    "plt.plot(X0[:, 0], X0[:, 1], 'g^', markersize = 8, alpha = .8)\n",
    "plt.plot(X1[:, 0], X1[:, 1], 'ro', markersize = 8, alpha = .8)\n",
    "plt.axis('equal')\n",
    "# axis limits\n",
    "plt.ylim(0, 4)\n",
    "plt.xlim(0, 7)\n",
    "\n",
    "# hide tikcs \n",
    "cur_axes = plt.gca()\n",
    "cur_axes.axes.get_xaxis().set_ticks([])\n",
    "cur_axes.axes.get_yaxis().set_ticks([])\n",
    "\n",
    "plt.xlabel('$x_1$', fontsize = 20)\n",
    "plt.ylabel('$x_2$', fontsize = 20)\n",
    "\n",
    "w = svm.w.ravel()\n",
    "b = svm.b\n",
    "\n",
    "a, c = w\n",
    "slope = -a/c\n",
    "offset = -b/c\n",
    "\n",
    "w_xy = np.array([slope, offset]).reshape(-1, 1)\n",
    "Xdraw = np.linspace(0, 5, 100).reshape(-1, 1)\n",
    "Xdraw_ = np.hstack((Xdraw, np.ones(100).reshape(-1, 1)))\n",
    "ydraw = Xdraw_.dot(w_xy)\n",
    "\n",
    "plt.plot(Xdraw, ydraw, label = \"split\")\n",
    "\n",
    "sv_points = svm.supportVectorPoints(X)\n",
    "print(sv_points)\n",
    "Xmark = sv_points[:, 0].ravel()\n",
    "ymark = sv_points[:, 1].ravel()\n",
    "\n",
    "plt.scatter(Xmark, ymark, marker = 's', s=80, facecolors='none', edgecolors='k')\n",
    "\n",
    "pl = plotSVM().plotlineSVM(svm,opt = True)\n",
    "\n",
    "plt.legend()\n",
    "plt.show()"
   ]
  },
  {
   "cell_type": "code",
   "execution_count": null,
   "metadata": {
    "collapsed": true
   },
   "outputs": [],
   "source": [
    "#predict data\n",
    "X0pre = np.random.multivariate_normal(means[0], cov, Nsample) # each row is a data point \n",
    "X1pre = np.random.multivariate_normal(means[1], cov, Nsample)\n",
    "\n",
    "Xpre = np.concatenate((X0pre, X1pre), axis = 0) # all data \n",
    "tpre = np.concatenate((np.ones((Nsample, 1)), -1*np.ones((Nsample, 1))), axis = 0) # labels \n",
    "\n",
    "#predict with c = 100\n",
    "print(\"c = 100\")\n",
    "Xpre,tpre = shuffle(Xpre, tpre)\n",
    "Ypre = svm.predict(Xpre)\n",
    "Xr0,Xr1 = svm.classifySign(Xpre, Ypre)\n",
    "plotSVM().plotline(X0pre, X1pre, svm100, Xpre)"
   ]
  },
  {
   "cell_type": "code",
   "execution_count": null,
   "metadata": {
    "collapsed": true
   },
   "outputs": [],
   "source": []
  },
  {
   "cell_type": "code",
   "execution_count": null,
   "metadata": {
    "collapsed": true
   },
   "outputs": [],
   "source": []
  }
 ],
 "metadata": {
  "kernelspec": {
   "display_name": "Python 3",
   "language": "python",
   "name": "python3"
  },
  "language_info": {
   "codemirror_mode": {
    "name": "ipython",
    "version": 3
   },
   "file_extension": ".py",
   "mimetype": "text/x-python",
   "name": "python",
   "nbconvert_exporter": "python",
   "pygments_lexer": "ipython3",
   "version": "3.7.3"
  }
 },
 "nbformat": 4,
 "nbformat_minor": 2
}
