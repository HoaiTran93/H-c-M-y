{
 "cells": [
  {
   "cell_type": "code",
   "execution_count": 1,
   "metadata": {},
   "outputs": [],
   "source": [
    "import numpy as np \n",
    "import matplotlib.pyplot as plt\n",
    "from scipy.spatial.distance import cdist\n",
    "from cvxopt import matrix, solvers\n",
    "import CommonFunction as cf\n",
    "from sklearn.utils import shuffle\n",
    "from SVMFunction import DualSoftMargin\n",
    "from CommonFunction import plotSVM"
   ]
  },
  {
   "cell_type": "code",
   "execution_count": 2,
   "metadata": {},
   "outputs": [
    {
     "data": {
      "image/png": "[encoded data removed]",
      "text/plain": [
       "<Figure size 432x288 with 1 Axes>"
      ]
     },
     "metadata": {},
     "output_type": "display_data"
    }
   ],
   "source": [
    "means = [[2, 2], [4, 2]]\n",
    "cov = [[.7, 0], [0, .7]]\n",
    "Nsample = 20\n",
    "c = 100\n",
    "\n",
    "X0 = np.random.multivariate_normal(means[0], cov, Nsample) # each row is a data point \n",
    "X1 = np.random.multivariate_normal(means[1], cov, Nsample)\n",
    "\n",
    "funcs = [\n",
    "    lambda x: x[:, 0],\n",
    "    lambda x: x[:, 1],\n",
    "#    lambda x: np.multiply(x[:, 0], x[:, 1]),\n",
    "#    lambda x: np.power(x[:, 0], 2),\n",
    "#    lambda x: np.power(x[:, 1], 2),\n",
    "#    lambda x: np.multiply(np.power(x[:, 0], 2), x[:, 1]),\n",
    "#    lambda x: np.multiply(np.power(x[:, 1], 2), x[:, 0]),\n",
    "#    lambda x: np.power(x[:, 0], 3),\n",
    "#    lambda x: np.power(x[:, 1], 3),\n",
    "#    lambda x: np.multiply(np.power(x[:, 0], 3), x[:, 1]),\n",
    "#    lambda x: np.multiply(np.power(x[:, 1], 3), x[:, 0]),\n",
    "#    lambda x: np.multiply(np.power(x[:, 0], 2), np.power(x[:, 1], 2)),\n",
    "#    lambda x: np.power(x[:, 0], 4),\n",
    "#    lambda x: np.power(x[:, 1], 4),\n",
    "]\n",
    "# plot points\n",
    "plt.plot(X0[:, 0], X0[:, 1], 'g^', markersize = 8, alpha = .8)\n",
    "plt.plot(X1[:, 0], X1[:, 1], 'ro', markersize = 8, alpha = .8)\n",
    "plt.axis('equal')\n",
    "# axis limits\n",
    "plt.ylim(0, 4)\n",
    "plt.xlim(0, 5)\n",
    "\n",
    "# hide tikcs \n",
    "cur_axes = plt.gca()\n",
    "cur_axes.axes.get_xaxis().set_ticks([])\n",
    "cur_axes.axes.get_yaxis().set_ticks([])\n",
    "\n",
    "plt.xlabel('$x_1$', fontsize = 20)\n",
    "plt.ylabel('$x_2$', fontsize = 20)\n",
    "\n",
    "plt.show()"
   ]
  },
  {
   "cell_type": "code",
   "execution_count": 3,
   "metadata": {},
   "outputs": [
    {
     "ename": "NameError",
     "evalue": "name 'Nsample' is not defined",
     "output_type": "error",
     "traceback": [
      "\u001b[1;31m---------------------------------------------------------------------------\u001b[0m",
      "\u001b[1;31mNameError\u001b[0m                                 Traceback (most recent call last)",
      "\u001b[1;32m<ipython-input-3-7e7875227442>\u001b[0m in \u001b[0;36m<module>\u001b[1;34m\u001b[0m\n\u001b[1;32m----> 1\u001b[1;33m \u001b[0msvm\u001b[0m \u001b[1;33m=\u001b[0m \u001b[0mplotSVM\u001b[0m\u001b[1;33m(\u001b[0m\u001b[1;33m)\u001b[0m\u001b[1;33m.\u001b[0m\u001b[0mplotDualSoftMargin\u001b[0m\u001b[1;33m(\u001b[0m\u001b[0mX0\u001b[0m\u001b[1;33m,\u001b[0m\u001b[0mX1\u001b[0m\u001b[1;33m)\u001b[0m\u001b[1;33m\u001b[0m\u001b[1;33m\u001b[0m\u001b[0m\n\u001b[0m",
      "\u001b[1;32m~\\Học máy\\SVM\\CommonFunction.py\u001b[0m in \u001b[0;36mplotDualSoftMargin\u001b[1;34m(self, X0, X1)\u001b[0m\n\u001b[0;32m     62\u001b[0m     \u001b[1;32mdef\u001b[0m \u001b[0mplotDualSoftMargin\u001b[0m\u001b[1;33m(\u001b[0m\u001b[0mself\u001b[0m\u001b[1;33m,\u001b[0m \u001b[0mX0\u001b[0m\u001b[1;33m,\u001b[0m \u001b[0mX1\u001b[0m\u001b[1;33m)\u001b[0m\u001b[1;33m:\u001b[0m\u001b[1;33m\u001b[0m\u001b[1;33m\u001b[0m\u001b[0m\n\u001b[0;32m     63\u001b[0m         \u001b[0mX\u001b[0m \u001b[1;33m=\u001b[0m \u001b[0mnp\u001b[0m\u001b[1;33m.\u001b[0m\u001b[0mconcatenate\u001b[0m\u001b[1;33m(\u001b[0m\u001b[1;33m(\u001b[0m\u001b[0mX0\u001b[0m\u001b[1;33m,\u001b[0m \u001b[0mX1\u001b[0m\u001b[1;33m)\u001b[0m\u001b[1;33m,\u001b[0m \u001b[0maxis\u001b[0m \u001b[1;33m=\u001b[0m \u001b[1;36m0\u001b[0m\u001b[1;33m)\u001b[0m \u001b[1;31m# all data\u001b[0m\u001b[1;33m\u001b[0m\u001b[1;33m\u001b[0m\u001b[0m\n\u001b[1;32m---> 64\u001b[1;33m         \u001b[0mt\u001b[0m \u001b[1;33m=\u001b[0m \u001b[0mnp\u001b[0m\u001b[1;33m.\u001b[0m\u001b[0mconcatenate\u001b[0m\u001b[1;33m(\u001b[0m\u001b[1;33m(\u001b[0m\u001b[0mnp\u001b[0m\u001b[1;33m.\u001b[0m\u001b[0mones\u001b[0m\u001b[1;33m(\u001b[0m\u001b[1;33m(\u001b[0m\u001b[0mNsample\u001b[0m\u001b[1;33m,\u001b[0m \u001b[1;36m1\u001b[0m\u001b[1;33m)\u001b[0m\u001b[1;33m)\u001b[0m\u001b[1;33m,\u001b[0m \u001b[1;33m-\u001b[0m\u001b[1;36m1\u001b[0m\u001b[1;33m*\u001b[0m\u001b[0mnp\u001b[0m\u001b[1;33m.\u001b[0m\u001b[0mones\u001b[0m\u001b[1;33m(\u001b[0m\u001b[1;33m(\u001b[0m\u001b[0mNsample\u001b[0m\u001b[1;33m,\u001b[0m \u001b[1;36m1\u001b[0m\u001b[1;33m)\u001b[0m\u001b[1;33m)\u001b[0m\u001b[1;33m)\u001b[0m\u001b[1;33m,\u001b[0m \u001b[0maxis\u001b[0m \u001b[1;33m=\u001b[0m \u001b[1;36m0\u001b[0m\u001b[1;33m)\u001b[0m \u001b[1;31m# labels\u001b[0m\u001b[1;33m\u001b[0m\u001b[1;33m\u001b[0m\u001b[0m\n\u001b[0m\u001b[0;32m     65\u001b[0m         \u001b[0mX\u001b[0m\u001b[1;33m,\u001b[0m\u001b[0mt\u001b[0m \u001b[1;33m=\u001b[0m \u001b[0mshuffle\u001b[0m\u001b[1;33m(\u001b[0m\u001b[0mX\u001b[0m\u001b[1;33m,\u001b[0m \u001b[0mt\u001b[0m\u001b[1;33m)\u001b[0m\u001b[1;33m\u001b[0m\u001b[1;33m\u001b[0m\u001b[0m\n\u001b[0;32m     66\u001b[0m \u001b[1;33m\u001b[0m\u001b[0m\n",
      "\u001b[1;31mNameError\u001b[0m: name 'Nsample' is not defined"
     ]
    }
   ],
   "source": [
    "svm = plotSVM().plotDualSoftMargin(X0,X1,Nsample)"
   ]
  },
  {
   "cell_type": "code",
   "execution_count": 4,
   "metadata": {},
   "outputs": [
    {
     "data": {
      "image/png": "[encoded data removed]",
      "text/plain": [
       "<Figure size 432x288 with 1 Axes>"
      ]
     },
     "metadata": {
      "needs_background": "light"
     },
     "output_type": "display_data"
    }
   ],
   "source": []
  },
  {
   "cell_type": "code",
   "execution_count": 5,
   "metadata": {},
   "outputs": [
    {
     "name": "stdout",
     "output_type": "stream",
     "text": [
      "X(+)= 20\n",
      "X(-)= 20\n",
      "X(+)\n",
      " [[ 0.81935551  1.11649459]\n",
      " [ 2.91013766  1.59265886]\n",
      " [ 1.26512552  1.9829452 ]\n",
      " [ 2.05383909  3.22692511]\n",
      " [ 2.26541459  1.41480868]\n",
      " [ 0.64927566  1.82956575]\n",
      " [ 2.39053895 -0.127754  ]\n",
      " [ 1.9271992   0.7211798 ]\n",
      " [ 1.10932355  1.05724648]\n",
      " [ 1.67798594  1.82362614]\n",
      " [ 2.85081792  1.10415275]\n",
      " [ 1.29398224  1.64004397]\n",
      " [ 2.14816891  0.42569301]\n",
      " [ 2.19374994  1.1352494 ]\n",
      " [ 2.1084071   2.41107387]\n",
      " [ 2.25755802  1.66181039]\n",
      " [ 1.69419596  2.6811152 ]\n",
      " [ 1.85115853  0.40011132]\n",
      " [ 2.34393749  2.17182618]\n",
      " [ 0.15041527  1.02136352]]\n",
      "X(-)\n",
      " [[ 4.34629434  1.4765766 ]\n",
      " [ 4.4306529   2.11467053]\n",
      " [ 4.21266319  3.06805724]\n",
      " [ 4.33042983  2.74510553]\n",
      " [ 4.83090878  2.58386392]\n",
      " [ 4.81023366  1.26342377]\n",
      " [ 5.31198262  2.26024403]\n",
      " [ 3.54612643  2.15523191]\n",
      " [ 4.54868749  2.58003019]\n",
      " [ 3.63357546  1.7695591 ]\n",
      " [ 3.79093172  0.43702422]\n",
      " [ 3.85972484  1.1427277 ]\n",
      " [ 4.42288771  3.36695889]\n",
      " [ 3.94256671  0.67073643]\n",
      " [ 3.97521547  1.77340334]\n",
      " [ 3.24438843  1.43718689]\n",
      " [ 3.97254412  2.6321841 ]\n",
      " [ 3.41175621  1.35057191]\n",
      " [ 4.48864988  0.65277827]\n",
      " [ 4.65123259  2.97146332]]\n"
     ]
    }
   ],
   "source": [
    "#predict data\n",
    "X0pre = np.random.multivariate_normal(means[0], cov, Nsample) # each row is a data point \n",
    "X1pre = np.random.multivariate_normal(means[1], cov, Nsample)\n",
    "\n",
    "Xpre = np.concatenate((X0pre, X1pre), axis = 0) # all data \n",
    "tpre = np.concatenate((np.ones((Nsample, 1)), -1*np.ones((Nsample, 1))), axis = 0) # labels \n",
    "\n",
    "Xpre,tpre = shuffle(Xpre, tpre)\n",
    "\n",
    "Ypre = svm.predict(Xpre)\n",
    "\n",
    "Xr0,Xr1 = svm.classifySign(Xpre, Ypre)\n",
    "print(\"X(+)\\n\",Xr0)\n",
    "print(\"X(-)\\n\",Xr1)"
   ]
  },
  {
   "cell_type": "code",
   "execution_count": null,
   "metadata": {},
   "outputs": [],
   "source": []
  },
  {
   "cell_type": "code",
   "execution_count": null,
   "metadata": {},
   "outputs": [],
   "source": []
  },
  {
   "cell_type": "code",
   "execution_count": null,
   "metadata": {
    "collapsed": true
   },
   "outputs": [],
   "source": []
  },
  {
   "cell_type": "code",
   "execution_count": null,
   "metadata": {
    "collapsed": true
   },
   "outputs": [],
   "source": []
  },
  {
   "cell_type": "code",
   "execution_count": null,
   "metadata": {
    "collapsed": true
   },
   "outputs": [],
   "source": []
  },
  {
   "cell_type": "code",
   "execution_count": null,
   "metadata": {
    "collapsed": true
   },
   "outputs": [],
   "source": []
  },
  {
   "cell_type": "code",
   "execution_count": null,
   "metadata": {
    "collapsed": true
   },
   "outputs": [],
   "source": []
  },
  {
   "cell_type": "code",
   "execution_count": null,
   "metadata": {
    "collapsed": true
   },
   "outputs": [],
   "source": []
  },
  {
   "cell_type": "code",
   "execution_count": null,
   "metadata": {
    "collapsed": true
   },
   "outputs": [],
   "source": []
  }
 ],
 "metadata": {
  "kernelspec": {
   "display_name": "Python 3",
   "language": "python",
   "name": "python3"
  },
  "language_info": {
   "codemirror_mode": {
    "name": "ipython",
    "version": 3
   },
   "file_extension": ".py",
   "mimetype": "text/x-python",
   "name": "python",
   "nbconvert_exporter": "python",
   "pygments_lexer": "ipython3",
   "version": "3.7.3"
  }
 },
 "nbformat": 4,
 "nbformat_minor": 2
}
