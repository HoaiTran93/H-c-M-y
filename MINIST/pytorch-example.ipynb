{
 "cells": [
  {
   "cell_type": "code",
   "execution_count": 1,
   "metadata": {},
   "outputs": [],
   "source": [
    "import torchvision\n",
    "import torchvision.transforms as transforms\n",
    "import torch.optim as optim\n",
    "import cv2\n",
    "import numpy as np\n",
    "import matplotlib.pyplot as plt\n",
    "from torch.utils.data import Dataset, DataLoader\n",
    "from NetFunction import Net\n",
    "from NetFunction import Train_Model"
   ]
  },
  {
   "cell_type": "code",
   "execution_count": 2,
   "metadata": {},
   "outputs": [
    {
     "name": "stdout",
     "output_type": "stream",
     "text": [
      "Size of training data: 60000\n",
      "Size of testing data: 10000\n"
     ]
    }
   ],
   "source": [
    "#prepare data\n",
    "trainset = torchvision.datasets.MNIST('./content', train=True, transform=transforms.ToTensor(), target_transform=None, download=True)\n",
    "testset = torchvision.datasets.MNIST('./content', train=False, transform=transforms.ToTensor(), target_transform=None, download=True)\n",
    "\n",
    "# Use the torch dataloader to iterate through the dataset\n",
    "# We want the dataset to be shuffled during training.\n",
    "trainset_loader = DataLoader(trainset, batch_size=64, shuffle=True, num_workers=1)\n",
    "\n",
    "# Use the torch dataloader to iterate through the dataset\n",
    "testset_loader = DataLoader(testset, batch_size=1000, shuffle=False, num_workers=1)\n",
    "\n",
    "print('Size of training data: {}'.format(len(trainset))) # len = 60000\n",
    "print('Size of testing data: {}'.format(len(testset)))  # len = 10000"
   ]
  },
  {
   "cell_type": "code",
   "execution_count": 3,
   "metadata": {},
   "outputs": [
    {
     "name": "stdout",
     "output_type": "stream",
     "text": [
      "tensor(0) tensor(7) tensor(8) tensor(5) tensor(7) tensor(8) tensor(4) tensor(4) tensor(0) tensor(7) tensor(2) tensor(3) tensor(6) tensor(6) tensor(9) tensor(2)\n"
     ]
    },
    {
     "data": {
      "image/png": "[encoded data removed]",
      "text/plain": [
       "<Figure size 432x288 with 1 Axes>"
      ]
     },
     "metadata": {
      "needs_background": "light"
     },
     "output_type": "display_data"
    }
   ],
   "source": [
    "import matplotlib.pyplot as plt\n",
    "\n",
    "# functions to show an image\n",
    "def imshow(img):\n",
    "    npimg = img.numpy()\n",
    "    plt.imshow(np.transpose(npimg, (1, 2, 0)))\n",
    "\n",
    "# get some random training images\n",
    "dataiter = iter(trainset_loader)\n",
    "images, labels = dataiter.next()\n",
    "\n",
    "# show images\n",
    "imshow(torchvision.utils.make_grid(images))\n",
    "# print labels\n",
    "print(' '.join('%5s' % labels[j] for j in range(16)))"
   ]
  },
  {
   "cell_type": "code",
   "execution_count": 4,
   "metadata": {},
   "outputs": [],
   "source": [
    "model = Net()"
   ]
  },
  {
   "cell_type": "code",
   "execution_count": 6,
   "metadata": {},
   "outputs": [
    {
     "name": "stdout",
     "output_type": "stream",
     "text": [
      "Train Epoch: 0 [0/60000 (0%)]\tLoss: 2.301278\n",
      "Train Epoch: 0 [6400/60000 (11%)]\tLoss: 2.278581\n",
      "Train Epoch: 0 [12800/60000 (21%)]\tLoss: 2.272666\n",
      "Train Epoch: 0 [19200/60000 (32%)]\tLoss: 2.276026\n",
      "Train Epoch: 0 [25600/60000 (43%)]\tLoss: 2.258652\n",
      "Train Epoch: 0 [32000/60000 (53%)]\tLoss: 2.214814\n",
      "Model saved to ./content/mnist-500.pth\n",
      "Train Epoch: 0 [38400/60000 (64%)]\tLoss: 2.127509\n",
      "Train Epoch: 0 [44800/60000 (75%)]\tLoss: 1.963989\n",
      "Train Epoch: 0 [51200/60000 (85%)]\tLoss: 1.524605\n",
      "Train Epoch: 0 [57600/60000 (96%)]\tLoss: 1.451405\n",
      "Time to complete a epoch: 36.54s\n"
     ]
    },
    {
     "name": "stderr",
     "output_type": "stream",
     "text": [
      "C:\\Users\\vicen\\Anaconda3\\lib\\site-packages\\torch\\nn\\_reduction.py:49: UserWarning: size_average and reduce args will be deprecated, please use reduction='sum' instead.\n",
      "  warnings.warn(warning.format(ret))\n"
     ]
    },
    {
     "name": "stdout",
     "output_type": "stream",
     "text": [
      "\n",
      "Test set: Average loss: 0.9124, Accuracy: 8160/10000 (82%)\n",
      "\n",
      "Model saved to ./content/mnist-938.pth\n",
      "Train Epoch: 1 [3968/60000 (7%)]\tLoss: 0.673539\n",
      "Model saved to ./content/mnist-1000.pth\n",
      "Train Epoch: 1 [10368/60000 (17%)]\tLoss: 0.496989\n",
      "Train Epoch: 1 [16768/60000 (28%)]\tLoss: 0.742828\n",
      "Train Epoch: 1 [23168/60000 (39%)]\tLoss: 0.481353\n",
      "Train Epoch: 1 [29568/60000 (49%)]\tLoss: 0.203053\n",
      "Train Epoch: 1 [35968/60000 (60%)]\tLoss: 0.326908\n",
      "Model saved to ./content/mnist-1500.pth\n",
      "Train Epoch: 1 [42368/60000 (71%)]\tLoss: 0.462405\n",
      "Train Epoch: 1 [48768/60000 (81%)]\tLoss: 0.322441\n",
      "Train Epoch: 1 [55168/60000 (92%)]\tLoss: 0.361027\n",
      "Time to complete a epoch: 35.05s\n",
      "\n",
      "Test set: Average loss: 0.2436, Accuracy: 9257/10000 (93%)\n",
      "\n",
      "Model saved to ./content/mnist-1876.pth\n",
      "Train Epoch: 2 [1536/60000 (3%)]\tLoss: 0.235781\n",
      "Train Epoch: 2 [7936/60000 (13%)]\tLoss: 0.360146\n",
      "Model saved to ./content/mnist-2000.pth\n",
      "Train Epoch: 2 [14336/60000 (24%)]\tLoss: 0.352431\n",
      "Train Epoch: 2 [20736/60000 (35%)]\tLoss: 0.114180\n",
      "Train Epoch: 2 [27136/60000 (45%)]\tLoss: 0.346421\n",
      "Train Epoch: 2 [33536/60000 (56%)]\tLoss: 0.164315\n",
      "Train Epoch: 2 [39936/60000 (67%)]\tLoss: 0.214715\n",
      "Model saved to ./content/mnist-2500.pth\n",
      "Train Epoch: 2 [46336/60000 (77%)]\tLoss: 0.236754\n",
      "Train Epoch: 2 [52736/60000 (88%)]\tLoss: 0.190257\n",
      "Train Epoch: 2 [59136/60000 (99%)]\tLoss: 0.262971\n",
      "Time to complete a epoch: 35.87s\n",
      "\n",
      "Test set: Average loss: 0.1714, Accuracy: 9492/10000 (95%)\n",
      "\n",
      "Model saved to ./content/mnist-2814.pth\n",
      "Train Epoch: 3 [5504/60000 (9%)]\tLoss: 0.214850\n",
      "Train Epoch: 3 [11904/60000 (20%)]\tLoss: 0.103770\n",
      "Model saved to ./content/mnist-3000.pth\n",
      "Train Epoch: 3 [18304/60000 (30%)]\tLoss: 0.261201\n",
      "Train Epoch: 3 [24704/60000 (41%)]\tLoss: 0.177472\n",
      "Train Epoch: 3 [31104/60000 (52%)]\tLoss: 0.161906\n",
      "Train Epoch: 3 [37504/60000 (62%)]\tLoss: 0.097330\n",
      "Train Epoch: 3 [43904/60000 (73%)]\tLoss: 0.161597\n",
      "Model saved to ./content/mnist-3500.pth\n",
      "Train Epoch: 3 [50304/60000 (84%)]\tLoss: 0.195290\n",
      "Train Epoch: 3 [56704/60000 (94%)]\tLoss: 0.110048\n",
      "Time to complete a epoch: 38.13s\n",
      "\n",
      "Test set: Average loss: 0.1331, Accuracy: 9604/10000 (96%)\n",
      "\n",
      "Model saved to ./content/mnist-3752.pth\n",
      "Train Epoch: 4 [3072/60000 (5%)]\tLoss: 0.189926\n",
      "Train Epoch: 4 [9472/60000 (16%)]\tLoss: 0.283636\n",
      "Train Epoch: 4 [15872/60000 (26%)]\tLoss: 0.242632\n",
      "Model saved to ./content/mnist-4000.pth\n",
      "Train Epoch: 4 [22272/60000 (37%)]\tLoss: 0.139745\n",
      "Train Epoch: 4 [28672/60000 (48%)]\tLoss: 0.225141\n",
      "Train Epoch: 4 [35072/60000 (58%)]\tLoss: 0.087267\n",
      "Train Epoch: 4 [41472/60000 (69%)]\tLoss: 0.231493\n",
      "Train Epoch: 4 [47872/60000 (80%)]\tLoss: 0.085867\n",
      "Model saved to ./content/mnist-4500.pth\n",
      "Train Epoch: 4 [54272/60000 (90%)]\tLoss: 0.110868\n",
      "Time to complete a epoch: 38.52s\n",
      "\n",
      "Test set: Average loss: 0.1085, Accuracy: 9674/10000 (97%)\n",
      "\n",
      "Model saved to ./content/mnist-4690.pth\n"
     ]
    }
   ],
   "source": [
    "trainer = Train_Model(model, trainset_loader, testset_loader, lr=0.001, momentum=0.9)\n",
    "\n",
    "#Train model\n",
    "trainer.train(5, save_interval = 500, log_interval = 100)"
   ]
  },
  {
   "cell_type": "code",
   "execution_count": 7,
   "metadata": {},
   "outputs": [],
   "source": [
    "# Test a custom checkpoint\n",
    "#trainer.load_checkpoint('./data/mnist-4500.pth')\n",
    "#trainer.test()"
   ]
  },
  {
   "cell_type": "code",
   "execution_count": null,
   "metadata": {},
   "outputs": [],
   "source": []
  }
 ],
 "metadata": {
  "kernelspec": {
   "display_name": "Python 3",
   "language": "python",
   "name": "python3"
  },
  "language_info": {
   "codemirror_mode": {
    "name": "ipython",
    "version": 3
   },
   "file_extension": ".py",
   "mimetype": "text/x-python",
   "name": "python",
   "nbconvert_exporter": "python",
   "pygments_lexer": "ipython3",
   "version": "3.7.3"
  }
 },
 "nbformat": 4,
 "nbformat_minor": 2
}
