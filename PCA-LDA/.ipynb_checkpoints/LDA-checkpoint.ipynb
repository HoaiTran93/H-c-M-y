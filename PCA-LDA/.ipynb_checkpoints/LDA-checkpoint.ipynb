{
 "cells": [
  {
   "cell_type": "code",
   "execution_count": 1,
   "metadata": {},
   "outputs": [],
   "source": [
    "import numpy as np\n",
    "import matplotlib.pyplot as plt\n",
    "import sklearn.datasets as skdata\n",
    "from sklearn.utils import shuffle\n",
    "import CommonFunction as cf\n",
    "from SVDFunction import SVDFunction"
   ]
  },
  {
   "cell_type": "code",
   "execution_count": 2,
   "metadata": {},
   "outputs": [
    {
     "name": "stdout",
     "output_type": "stream",
     "text": [
      "(210, 15)\n"
     ]
    },
    {
     "data": {
      "image/png": "[encoded data removed]",
      "text/plain": [
       "<Figure size 432x288 with 1 Axes>"
      ]
     },
     "metadata": {
      "needs_background": "light"
     },
     "output_type": "display_data"
    }
   ],
   "source": [
    "Nsample = 210\n",
    "sampleNoise = 0.1\n",
    "Nclass = 3\n",
    "centers = [\n",
    "    [-0.5, 1],\n",
    "    [0, 0.5],\n",
    "    [0.5, 1],\n",
    "]\n",
    "subSamples = int(Nsample/3)\n",
    "\n",
    "X, t = skdata.make_blobs(n_samples = [subSamples, subSamples, subSamples], \n",
    "                         cluster_std = sampleNoise, random_state = 0, shuffle = False, centers = centers)\n",
    "\n",
    "plt.scatter(X[:subSamples, 0], X[:subSamples, 1], c = 'r', label = \"class0\")\n",
    "plt.scatter(X[subSamples:subSamples*2, 0], X[subSamples:subSamples*2, 1], c = 'g', label = \"class1\")\n",
    "plt.scatter(X[subSamples*2:, 0], X[subSamples*2:, 1], c = 'b', label = \"class2\")\n",
    "\n",
    "t = t.reshape(-1,1)\n",
    "\n",
    "funcs = [\n",
    "    lambda x: x[:, 0],\n",
    "    lambda x: x[:, 1],\n",
    "    lambda x: np.multiply(x[:, 0], x[:, 1]),\n",
    "    lambda x: np.power(x[:, 0], 2),\n",
    "    lambda x: np.power(x[:, 1], 2),\n",
    "    lambda x: np.multiply(np.power(x[:, 0], 2), x[:, 1]),\n",
    "    lambda x: np.multiply(np.power(x[:, 1], 2), x[:, 0]),\n",
    "    lambda x: np.power(x[:, 0], 3),\n",
    "    lambda x: np.power(x[:, 1], 3),\n",
    "    lambda x: np.multiply(np.power(x[:, 0], 3), x[:, 1]),\n",
    "    lambda x: np.multiply(np.power(x[:, 1], 3), x[:, 0]),\n",
    "    lambda x: np.multiply(np.power(x[:, 0], 2), np.power(x[:, 1], 2)),\n",
    "    lambda x: np.power(x[:, 0], 4),\n",
    "    lambda x: np.power(x[:, 1], 4),\n",
    "]\n",
    "\n",
    "Xfeatures = cf.CommonFunction(X, funcs).generate()\n",
    "print(Xfeatures.shape)"
   ]
  },
  {
   "cell_type": "code",
   "execution_count": 3,
   "metadata": {},
   "outputs": [
    {
     "name": "stdout",
     "output_type": "stream",
     "text": [
      "(70, 15)\n",
      "(70, 15)\n",
      "(70, 15)\n"
     ]
    }
   ],
   "source": [
    "X0 = Xfeatures[:subSamples, :]\n",
    "N0 = len(X0)\n",
    "\n",
    "X1 = Xfeatures[subSamples:subSamples*2, :]\n",
    "N1 = len(X1)\n",
    "\n",
    "X2 = Xfeatures[subSamples*2:, :]\n",
    "N2 = len(X2)\n",
    "\n",
    "print(X0.shape)\n",
    "print(X1.shape)\n",
    "print(X2.shape)"
   ]
  },
  {
   "cell_type": "code",
   "execution_count": 4,
   "metadata": {},
   "outputs": [
    {
     "name": "stdout",
     "output_type": "stream",
     "text": [
      "(1, 15)\n",
      "(1, 15)\n",
      "(1, 15)\n",
      "(1, 15)\n"
     ]
    }
   ],
   "source": [
    "m0 = np.mean(X0, axis = 0, keepdims = True)\n",
    "m1 = np.mean(X1, axis = 0, keepdims = True)\n",
    "m2 = np.mean(X2, axis = 0, keepdims = True)\n",
    "m = np.mean(Xfeatures, axis = 0, keepdims = True)\n",
    "print(m0.shape)\n",
    "print(m1.shape)\n",
    "print(m2.shape)\n",
    "print(m.shape)"
   ]
  },
  {
   "cell_type": "code",
   "execution_count": 5,
   "metadata": {},
   "outputs": [
    {
     "name": "stdout",
     "output_type": "stream",
     "text": [
      "(15, 15)\n",
      "(15, 15)\n",
      "(15, 15)\n",
      "(15, 15)\n"
     ]
    }
   ],
   "source": [
    "SB0 = (m0 - m).T.dot(m0 - m)\n",
    "SB1 = (m1 - m).T.dot(m1 - m)\n",
    "SB2 = (m2 - m).T.dot(m2 - m)\n",
    "SB = N0*SB0 + N1*SB1 + N2*SB2\n",
    "print(SB0.shape)\n",
    "print(SB1.shape)\n",
    "print(SB2.shape)\n",
    "print(SB.shape)"
   ]
  },
  {
   "cell_type": "code",
   "execution_count": 8,
   "metadata": {},
   "outputs": [
    {
     "name": "stdout",
     "output_type": "stream",
     "text": [
      "(15, 15)\n",
      "(15, 15)\n",
      "(15, 15)\n",
      "(15, 15)\n",
      "[[ 1.         -0.49543061  1.02014972 ...  0.27075007  0.07546352\n",
      "   1.14555261]\n",
      " [ 1.         -0.49543061  1.02014972 ...  0.27075007  0.07546352\n",
      "   1.14555261]\n",
      " [ 1.         -0.49543061  1.02014972 ...  0.27075007  0.07546352\n",
      "   1.14555261]\n",
      " ...\n",
      " [ 1.         -0.49543061  1.02014972 ...  0.27075007  0.07546352\n",
      "   1.14555261]\n",
      " [ 1.         -0.49543061  1.02014972 ...  0.27075007  0.07546352\n",
      "   1.14555261]\n",
      " [ 1.         -0.49543061  1.02014972 ...  0.27075007  0.07546352\n",
      "   1.14555261]]\n"
     ]
    }
   ],
   "source": [
    "SW0 = (X0 - np.tile(m0, (N0, 1))).T.dot(X0 - np.tile(m0, (N0, 1)))\n",
    "SW1 = (X1 - np.tile(m1, (N1, 1))).T.dot(X1 - np.tile(m1, (N1, 1)))\n",
    "SW2 = (X2 - np.tile(m2, (N2, 1))).T.dot(X2 - np.tile(m2, (N2, 1)))\n",
    "SW = SW0 + SW1 + SW2\n",
    "print(SW0.shape)\n",
    "print(SW1.shape)\n",
    "print(SW2.shape)\n",
    "print(SW.shape)"
   ]
  },
  {
   "cell_type": "code",
   "execution_count": 7,
   "metadata": {},
   "outputs": [
    {
     "ename": "LinAlgError",
     "evalue": "Singular matrix",
     "output_type": "error",
     "traceback": [
      "\u001b[1;31m---------------------------------------------------------------------------\u001b[0m",
      "\u001b[1;31mLinAlgError\u001b[0m                               Traceback (most recent call last)",
      "\u001b[1;32m<ipython-input-7-d72c91c4e291>\u001b[0m in \u001b[0;36m<module>\u001b[1;34m\u001b[0m\n\u001b[1;32m----> 1\u001b[1;33m \u001b[0mA\u001b[0m \u001b[1;33m=\u001b[0m \u001b[0mnp\u001b[0m\u001b[1;33m.\u001b[0m\u001b[0mlinalg\u001b[0m\u001b[1;33m.\u001b[0m\u001b[0minv\u001b[0m\u001b[1;33m(\u001b[0m\u001b[0mSW\u001b[0m\u001b[1;33m)\u001b[0m\u001b[1;33m\u001b[0m\u001b[1;33m\u001b[0m\u001b[0m\n\u001b[0m\u001b[0;32m      2\u001b[0m \u001b[0mprint\u001b[0m\u001b[1;33m(\u001b[0m\u001b[0mA\u001b[0m\u001b[1;33m)\u001b[0m\u001b[1;33m\u001b[0m\u001b[1;33m\u001b[0m\u001b[0m\n",
      "\u001b[1;32mC:\\ProgramData\\Anaconda3\\lib\\site-packages\\numpy\\linalg\\linalg.py\u001b[0m in \u001b[0;36minv\u001b[1;34m(a)\u001b[0m\n\u001b[0;32m    549\u001b[0m     \u001b[0msignature\u001b[0m \u001b[1;33m=\u001b[0m \u001b[1;34m'D->D'\u001b[0m \u001b[1;32mif\u001b[0m \u001b[0misComplexType\u001b[0m\u001b[1;33m(\u001b[0m\u001b[0mt\u001b[0m\u001b[1;33m)\u001b[0m \u001b[1;32melse\u001b[0m \u001b[1;34m'd->d'\u001b[0m\u001b[1;33m\u001b[0m\u001b[1;33m\u001b[0m\u001b[0m\n\u001b[0;32m    550\u001b[0m     \u001b[0mextobj\u001b[0m \u001b[1;33m=\u001b[0m \u001b[0mget_linalg_error_extobj\u001b[0m\u001b[1;33m(\u001b[0m\u001b[0m_raise_linalgerror_singular\u001b[0m\u001b[1;33m)\u001b[0m\u001b[1;33m\u001b[0m\u001b[1;33m\u001b[0m\u001b[0m\n\u001b[1;32m--> 551\u001b[1;33m     \u001b[0mainv\u001b[0m \u001b[1;33m=\u001b[0m \u001b[0m_umath_linalg\u001b[0m\u001b[1;33m.\u001b[0m\u001b[0minv\u001b[0m\u001b[1;33m(\u001b[0m\u001b[0ma\u001b[0m\u001b[1;33m,\u001b[0m \u001b[0msignature\u001b[0m\u001b[1;33m=\u001b[0m\u001b[0msignature\u001b[0m\u001b[1;33m,\u001b[0m \u001b[0mextobj\u001b[0m\u001b[1;33m=\u001b[0m\u001b[0mextobj\u001b[0m\u001b[1;33m)\u001b[0m\u001b[1;33m\u001b[0m\u001b[1;33m\u001b[0m\u001b[0m\n\u001b[0m\u001b[0;32m    552\u001b[0m     \u001b[1;32mreturn\u001b[0m \u001b[0mwrap\u001b[0m\u001b[1;33m(\u001b[0m\u001b[0mainv\u001b[0m\u001b[1;33m.\u001b[0m\u001b[0mastype\u001b[0m\u001b[1;33m(\u001b[0m\u001b[0mresult_t\u001b[0m\u001b[1;33m,\u001b[0m \u001b[0mcopy\u001b[0m\u001b[1;33m=\u001b[0m\u001b[1;32mFalse\u001b[0m\u001b[1;33m)\u001b[0m\u001b[1;33m)\u001b[0m\u001b[1;33m\u001b[0m\u001b[1;33m\u001b[0m\u001b[0m\n\u001b[0;32m    553\u001b[0m \u001b[1;33m\u001b[0m\u001b[0m\n",
      "\u001b[1;32mC:\\ProgramData\\Anaconda3\\lib\\site-packages\\numpy\\linalg\\linalg.py\u001b[0m in \u001b[0;36m_raise_linalgerror_singular\u001b[1;34m(err, flag)\u001b[0m\n\u001b[0;32m     95\u001b[0m \u001b[1;33m\u001b[0m\u001b[0m\n\u001b[0;32m     96\u001b[0m \u001b[1;32mdef\u001b[0m \u001b[0m_raise_linalgerror_singular\u001b[0m\u001b[1;33m(\u001b[0m\u001b[0merr\u001b[0m\u001b[1;33m,\u001b[0m \u001b[0mflag\u001b[0m\u001b[1;33m)\u001b[0m\u001b[1;33m:\u001b[0m\u001b[1;33m\u001b[0m\u001b[1;33m\u001b[0m\u001b[0m\n\u001b[1;32m---> 97\u001b[1;33m     \u001b[1;32mraise\u001b[0m \u001b[0mLinAlgError\u001b[0m\u001b[1;33m(\u001b[0m\u001b[1;34m\"Singular matrix\"\u001b[0m\u001b[1;33m)\u001b[0m\u001b[1;33m\u001b[0m\u001b[1;33m\u001b[0m\u001b[0m\n\u001b[0m\u001b[0;32m     98\u001b[0m \u001b[1;33m\u001b[0m\u001b[0m\n\u001b[0;32m     99\u001b[0m \u001b[1;32mdef\u001b[0m \u001b[0m_raise_linalgerror_nonposdef\u001b[0m\u001b[1;33m(\u001b[0m\u001b[0merr\u001b[0m\u001b[1;33m,\u001b[0m \u001b[0mflag\u001b[0m\u001b[1;33m)\u001b[0m\u001b[1;33m:\u001b[0m\u001b[1;33m\u001b[0m\u001b[1;33m\u001b[0m\u001b[0m\n",
      "\u001b[1;31mLinAlgError\u001b[0m: Singular matrix"
     ]
    }
   ],
   "source": [
    "A = np.linalg.inv(SW)\n",
    "print(A)"
   ]
  },
  {
   "cell_type": "code",
   "execution_count": null,
   "metadata": {},
   "outputs": [],
   "source": [
    "vec,val = np.linalg.eig(A)\n",
    "print(vec)\n",
    "print(val)"
   ]
  },
  {
   "cell_type": "code",
   "execution_count": null,
   "metadata": {},
   "outputs": [],
   "source": [
    "W = val.T\n",
    "print(W)"
   ]
  },
  {
   "cell_type": "code",
   "execution_count": null,
   "metadata": {},
   "outputs": [],
   "source": [
    "a  = np.array([[3, 2, 2], [2, 3, -2]])\n",
    "b  = np.array([[1, 1, 1], [1, 1, 1]])\n",
    "c = (a-b).T.dot(a-b)\n",
    "print(c)"
   ]
  },
  {
   "cell_type": "code",
   "execution_count": null,
   "metadata": {},
   "outputs": [],
   "source": [
    "d = (a.T-b.T).dot(a-b)\n",
    "print(d)"
   ]
  },
  {
   "cell_type": "code",
   "execution_count": null,
   "metadata": {},
   "outputs": [],
   "source": []
  }
 ],
 "metadata": {
  "kernelspec": {
   "display_name": "Python 3",
   "language": "python",
   "name": "python3"
  },
  "language_info": {
   "codemirror_mode": {
    "name": "ipython",
    "version": 3
   },
   "file_extension": ".py",
   "mimetype": "text/x-python",
   "name": "python",
   "nbconvert_exporter": "python",
   "pygments_lexer": "ipython3",
   "version": "3.7.3"
  }
 },
 "nbformat": 4,
 "nbformat_minor": 2
}
