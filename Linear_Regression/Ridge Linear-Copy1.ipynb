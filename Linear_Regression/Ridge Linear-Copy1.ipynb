{
 "cells": [
  {
   "cell_type": "code",
   "execution_count": 1,
   "metadata": {},
   "outputs": [],
   "source": [
    "import csv\n",
    "import numpy as np\n",
    "import matplotlib.pyplot as plt\n",
    "from numpy.linalg import matrix_power\n",
    "import sys"
   ]
  },
  {
   "cell_type": "code",
   "execution_count": 2,
   "metadata": {},
   "outputs": [],
   "source": [
    "\"\"\"def func\"\"\"\n",
    "def generate_data(N,D,sigma,color = 'x',label = ''):\n",
    "    xgen = np.random.uniform(0,2*np.pi, N).reshape(-1, 1)\n",
    "    ynoise = np.random.normal(0,sigma, N).reshape(-1, 1)\n",
    "    ygen = np.sin(xgen) + ynoise\n",
    "    if color != 'x':\n",
    "        plt.scatter(xgen, ygen, c = color,label = label)\n",
    "    return (xgen, ygen)\n",
    "\n",
    "def generate_predict_data(N,D,sigma):\n",
    "    xgen = np.linspace(0, 2*np.pi, N).reshape(-1, 1)\n",
    "    ynoise = np.random.normal(0, sigma, N).reshape(-1, 1)\n",
    "    ygen = np.sin(xgen) + ynoise\n",
    "    return (xgen,ygen)\n",
    "\n",
    "def generate_X(N,D,xgen):\n",
    "    X = np.ones((N,1))\n",
    "    X = np.append(X,xgen, axis=1)\n",
    "\n",
    "    X_tmp = np.ones((N,1))\n",
    "    for i in range(D-2):\n",
    "        for j in range(N):\n",
    "            X_tmp[j,0] = pow(xgen[j,0],i+2)\n",
    "        X = np.append(X,X_tmp, axis=1)\n",
    "    return X\n",
    "\n",
    "def cal_W(X,t,lamda):\n",
    "    Ilamda = lamda * np.identity(len(X.T))\n",
    "    tmp = np.linalg.inv(np.add(Ilamda,X.T.dot(X)))\n",
    "    W = tmp.dot(X.T).dot(t)\n",
    "    return W\n",
    "    \n",
    "def cal_MSE(t,yPre):\n",
    "    N = float(len(t.ravel()))\n",
    "    e = np.subtract(t, yPre)\n",
    "    MSE = np.asscalar((e.T.dot(e)/N).ravel())\n",
    "    return MSE"
   ]
  },
  {
   "cell_type": "code",
   "execution_count": 3,
   "metadata": {},
   "outputs": [
    {
     "name": "stdout",
     "output_type": "stream",
     "text": [
      "MSE of data test= 0.02292071960366455\n",
      "MSE of data train= 0.015639967362391264\n"
     ]
    },
    {
     "data": {
      "image/png": "[encoded data removed]",
      "text/plain": [
       "<Figure size 432x288 with 1 Axes>"
      ]
     },
     "metadata": {
      "needs_background": "light"
     },
     "output_type": "display_data"
    }
   ],
   "source": [
    "D = 5\n",
    "sigma = 0.1\n",
    "lamda = 0.5\n",
    "trainPoints = 200\n",
    "testPoints = 20\n",
    "predictPoints = 500\n",
    "\"\"\"ori func\"\"\"\n",
    "a = np.linspace(0, 2*np.pi, 200)\n",
    "plt.plot(a,np.sin(a),c ='k',label = \"original\")\n",
    "\n",
    "\"\"\"genrate train point\"\"\"\n",
    "xTrain,yTrain = generate_data(trainPoints,D,sigma,'y',\"train point\")\n",
    "Xtr = generate_X(trainPoints,D,xTrain)\n",
    "\n",
    "\"\"\"calculate W\"\"\"\n",
    "W = cal_W(Xtr,yTrain,lamda)\n",
    "\n",
    "\"\"\"generate test point\"\"\"\n",
    "xTest,yTest = generate_data(testPoints,D,sigma,'c',\"test point\")\n",
    "Xtst = generate_X(testPoints,D,xTest)\n",
    "\n",
    "\"\"\"predict test data\"\"\"\n",
    "Ypre_test = Xtst.dot(W)\n",
    "\n",
    "\"\"\"MSE test data\"\"\"\n",
    "MSE_test = cal_MSE(yTest,Ypre_test)\n",
    "print(\"MSE of data test=\",MSE_test)\n",
    "\n",
    "\"\"\"predict test data\"\"\"\n",
    "Ypre_train = Xtr.dot(W)\n",
    "\n",
    "\"\"\"MSE test data\"\"\"\n",
    "MSE_train = cal_MSE(yTrain,Ypre_train)\n",
    "print(\"MSE of data train=\",MSE_train)\n",
    "\n",
    "\"\"\"generate predict data\"\"\"\n",
    "xPre,yPre = generate_predict_data(predictPoints,D,sigma)\n",
    "Xpredict = generate_X(predictPoints,D,xPre)\n",
    "\n",
    "\"\"\"predict test data\"\"\"\n",
    "Ypredict = Xpredict.dot(W)\n",
    "\n",
    "plt.plot(xPre.ravel(),Ypredict.ravel(),c = 'r',label = \"prediction\")\n",
    "\n",
    "plt.ylim(-2, 2)\n",
    "plt.legend()\n",
    "plt.show()"
   ]
  },
  {
   "cell_type": "code",
   "execution_count": null,
   "metadata": {},
   "outputs": [],
   "source": []
  },
  {
   "cell_type": "code",
   "execution_count": null,
   "metadata": {},
   "outputs": [],
   "source": []
  }
 ],
 "metadata": {
  "kernelspec": {
   "display_name": "Python 3",
   "language": "python",
   "name": "python3"
  },
  "language_info": {
   "codemirror_mode": {
    "name": "ipython",
    "version": 3
   },
   "file_extension": ".py",
   "mimetype": "text/x-python",
   "name": "python",
   "nbconvert_exporter": "python",
   "pygments_lexer": "ipython3",
   "version": "3.7.3"
  }
 },
 "nbformat": 4,
 "nbformat_minor": 2
}
